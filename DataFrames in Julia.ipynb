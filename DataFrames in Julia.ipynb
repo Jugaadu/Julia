{
 "cells": [
  {
   "cell_type": "markdown",
   "metadata": {},
   "source": [
    "#DataFrames: Using Julia"
   ]
  },
  {
   "cell_type": "markdown",
   "metadata": {},
   "source": [
    "## DataFrames package is required to read any data frame"
   ]
  },
  {
   "cell_type": "markdown",
   "metadata": {},
   "source": [
    "Install DataFrames Package in Julia"
   ]
  },
  {
   "cell_type": "code",
   "execution_count": 3,
   "metadata": {
    "collapsed": false
   },
   "outputs": [
    {
     "name": "stderr",
     "output_type": "stream",
     "text": [
      "INFO: Cloning cache of ArrayViews from git://github.com/JuliaLang/ArrayViews.jl.git\n",
      "INFO: Cloning cache of DataArrays from git://github.com/JuliaStats/DataArrays.jl.git\n",
      "INFO: Cloning cache of DataFrames from git://github.com/JuliaStats/DataFrames.jl.git\n",
      "INFO: Cloning cache of Docile from git://github.com/MichaelHatherly/Docile.jl.git\n",
      "INFO: Cloning cache of GZip from git://github.com/JuliaLang/GZip.jl.git\n",
      "INFO: Cloning cache of Reexport from git://github.com/simonster/Reexport.jl.git\n",
      "INFO: Cloning cache of SortingAlgorithms from git://github.com/JuliaLang/SortingAlgorithms.jl.git\n",
      "INFO: Cloning cache of StatsBase from git://github.com/JuliaStats/StatsBase.jl.git\n",
      "INFO: Cloning cache of StatsFuns from git://github.com/JuliaStats/StatsFuns.jl.git\n",
      "INFO: Installing ArrayViews v0.6.4\n",
      "INFO: Installing DataArrays v0.2.20\n",
      "INFO: Installing DataFrames v0.6.10\n",
      "INFO: Installing Docile v0.5.19\n",
      "INFO: Installing GZip v0.2.18\n",
      "INFO: Installing Reexport v0.0.3\n",
      "INFO: Installing SortingAlgorithms v0.0.6\n",
      "INFO: Installing StatsBase v0.7.4\n",
      "INFO: Installing StatsFuns v0.2.0\n",
      "INFO: Package database updated\n"
     ]
    }
   ],
   "source": [
    "Pkg.add(\"DataFrames\")\n"
   ]
  },
  {
   "cell_type": "markdown",
   "metadata": {},
   "source": [
    "Declear DataFrames package"
   ]
  },
  {
   "cell_type": "code",
   "execution_count": 1,
   "metadata": {
    "collapsed": true
   },
   "outputs": [],
   "source": [
    "using DataFrames"
   ]
  },
  {
   "cell_type": "markdown",
   "metadata": {},
   "source": [
    "##Read data from csv file"
   ]
  },
  {
   "cell_type": "code",
   "execution_count": 2,
   "metadata": {
    "collapsed": false
   },
   "outputs": [
    {
     "data": {
      "text/html": [
       "<table class=\"data-frame\"><tr><th></th><th>id</th><th>date</th><th>price</th><th>bedrooms</th><th>bathrooms</th><th>sqft_living</th><th>sqft_lot</th><th>floors</th><th>waterfront</th><th>view</th><th>condition</th><th>grade</th><th>sqft_above</th><th>sqft_basement</th><th>yr_built</th><th>yr_renovated</th><th>zipcode</th><th>lat</th><th>long</th><th>sqft_living15</th><th>sqft_lot15</th></tr><tr><th>1</th><td>7129300520</td><td>20141013T000000</td><td>221900</td><td>3</td><td>1.0</td><td>1180</td><td>5650</td><td>1.0</td><td>0</td><td>0</td><td>3</td><td>7</td><td>1180</td><td>0</td><td>1955</td><td>0</td><td>98178</td><td>47.5112</td><td>-122.257</td><td>1340</td><td>5650</td></tr><tr><th>2</th><td>6414100192</td><td>20141209T000000</td><td>538000</td><td>3</td><td>2.25</td><td>2570</td><td>7242</td><td>2.0</td><td>0</td><td>0</td><td>3</td><td>7</td><td>2170</td><td>400</td><td>1951</td><td>1991</td><td>98125</td><td>47.721</td><td>-122.319</td><td>1690</td><td>7639</td></tr><tr><th>3</th><td>5631500400</td><td>20150225T000000</td><td>180000</td><td>2</td><td>1.0</td><td>770</td><td>10000</td><td>1.0</td><td>0</td><td>0</td><td>3</td><td>6</td><td>770</td><td>0</td><td>1933</td><td>0</td><td>98028</td><td>47.7379</td><td>-122.233</td><td>2720</td><td>8062</td></tr><tr><th>4</th><td>2487200875</td><td>20141209T000000</td><td>604000</td><td>4</td><td>3.0</td><td>1960</td><td>5000</td><td>1.0</td><td>0</td><td>0</td><td>5</td><td>7</td><td>1050</td><td>910</td><td>1965</td><td>0</td><td>98136</td><td>47.5208</td><td>-122.393</td><td>1360</td><td>5000</td></tr><tr><th>5</th><td>1954400510</td><td>20150218T000000</td><td>510000</td><td>3</td><td>2.0</td><td>1680</td><td>8080</td><td>1.0</td><td>0</td><td>0</td><td>3</td><td>8</td><td>1680</td><td>0</td><td>1987</td><td>0</td><td>98074</td><td>47.6168</td><td>-122.045</td><td>1800</td><td>7503</td></tr><tr><th>6</th><td>7237550310</td><td>20140512T000000</td><td>1225000</td><td>4</td><td>4.5</td><td>5420</td><td>101930</td><td>1.0</td><td>0</td><td>0</td><td>3</td><td>11</td><td>3890</td><td>1530</td><td>2001</td><td>0</td><td>98053</td><td>47.6561</td><td>-122.005</td><td>4760</td><td>101930</td></tr><tr><th>7</th><td>1321400060</td><td>20140627T000000</td><td>257500</td><td>3</td><td>2.25</td><td>1715</td><td>6819</td><td>2.0</td><td>0</td><td>0</td><td>3</td><td>7</td><td>1715</td><td>0</td><td>1995</td><td>0</td><td>98003</td><td>47.3097</td><td>-122.327</td><td>2238</td><td>6819</td></tr><tr><th>8</th><td>2008000270</td><td>20150115T000000</td><td>291850</td><td>3</td><td>1.5</td><td>1060</td><td>9711</td><td>1.0</td><td>0</td><td>0</td><td>3</td><td>7</td><td>1060</td><td>0</td><td>1963</td><td>0</td><td>98198</td><td>47.4095</td><td>-122.315</td><td>1650</td><td>9711</td></tr><tr><th>9</th><td>2414600126</td><td>20150415T000000</td><td>229500</td><td>3</td><td>1.0</td><td>1780</td><td>7470</td><td>1.0</td><td>0</td><td>0</td><td>3</td><td>7</td><td>1050</td><td>730</td><td>1960</td><td>0</td><td>98146</td><td>47.5123</td><td>-122.337</td><td>1780</td><td>8113</td></tr><tr><th>10</th><td>3793500160</td><td>20150312T000000</td><td>323000</td><td>3</td><td>2.5</td><td>1890</td><td>6560</td><td>2.0</td><td>0</td><td>0</td><td>3</td><td>7</td><td>1890</td><td>0</td><td>2003</td><td>0</td><td>98038</td><td>47.3684</td><td>-122.031</td><td>2390</td><td>7570</td></tr><tr><th>11</th><td>1736800520</td><td>20150403T000000</td><td>662500</td><td>3</td><td>2.5</td><td>3560</td><td>9796</td><td>1.0</td><td>0</td><td>0</td><td>3</td><td>8</td><td>1860</td><td>1700</td><td>1965</td><td>0</td><td>98007</td><td>47.6007</td><td>-122.145</td><td>2210</td><td>8925</td></tr><tr><th>12</th><td>9212900260</td><td>20140527T000000</td><td>468000</td><td>2</td><td>1.0</td><td>1160</td><td>6000</td><td>1.0</td><td>0</td><td>0</td><td>4</td><td>7</td><td>860</td><td>300</td><td>1942</td><td>0</td><td>98115</td><td>47.69</td><td>-122.292</td><td>1330</td><td>6000</td></tr><tr><th>13</th><td>114101516</td><td>20140528T000000</td><td>310000</td><td>3</td><td>1.0</td><td>1430</td><td>19901</td><td>1.5</td><td>0</td><td>0</td><td>4</td><td>7</td><td>1430</td><td>0</td><td>1927</td><td>0</td><td>98028</td><td>47.7558</td><td>-122.229</td><td>1780</td><td>12697</td></tr><tr><th>14</th><td>6054650070</td><td>20141007T000000</td><td>400000</td><td>3</td><td>1.75</td><td>1370</td><td>9680</td><td>1.0</td><td>0</td><td>0</td><td>4</td><td>7</td><td>1370</td><td>0</td><td>1977</td><td>0</td><td>98074</td><td>47.6127</td><td>-122.045</td><td>1370</td><td>10208</td></tr><tr><th>15</th><td>1175000570</td><td>20150312T000000</td><td>530000</td><td>5</td><td>2.0</td><td>1810</td><td>4850</td><td>1.5</td><td>0</td><td>0</td><td>3</td><td>7</td><td>1810</td><td>0</td><td>1900</td><td>0</td><td>98107</td><td>47.67</td><td>-122.394</td><td>1360</td><td>4850</td></tr><tr><th>16</th><td>9297300055</td><td>20150124T000000</td><td>650000</td><td>4</td><td>3.0</td><td>2950</td><td>5000</td><td>2.0</td><td>0</td><td>3</td><td>3</td><td>9</td><td>1980</td><td>970</td><td>1979</td><td>0</td><td>98126</td><td>47.5714</td><td>-122.375</td><td>2140</td><td>4000</td></tr><tr><th>17</th><td>1875500060</td><td>20140731T000000</td><td>395000</td><td>3</td><td>2.0</td><td>1890</td><td>14040</td><td>2.0</td><td>0</td><td>0</td><td>3</td><td>7</td><td>1890</td><td>0</td><td>1994</td><td>0</td><td>98019</td><td>47.7277</td><td>-121.962</td><td>1890</td><td>14018</td></tr><tr><th>18</th><td>6865200140</td><td>20140529T000000</td><td>485000</td><td>4</td><td>1.0</td><td>1600</td><td>4300</td><td>1.5</td><td>0</td><td>0</td><td>4</td><td>7</td><td>1600</td><td>0</td><td>1916</td><td>0</td><td>98103</td><td>47.6648</td><td>-122.343</td><td>1610</td><td>4300</td></tr><tr><th>19</th><td>16000397</td><td>20141205T000000</td><td>189000</td><td>2</td><td>1.0</td><td>1200</td><td>9850</td><td>1.0</td><td>0</td><td>0</td><td>4</td><td>7</td><td>1200</td><td>0</td><td>1921</td><td>0</td><td>98002</td><td>47.3089</td><td>-122.21</td><td>1060</td><td>5095</td></tr><tr><th>20</th><td>7983200060</td><td>20150424T000000</td><td>230000</td><td>3</td><td>1.0</td><td>1250</td><td>9774</td><td>1.0</td><td>0</td><td>0</td><td>4</td><td>7</td><td>1250</td><td>0</td><td>1969</td><td>0</td><td>98003</td><td>47.3343</td><td>-122.306</td><td>1280</td><td>8850</td></tr><tr><th>21</th><td>6300500875</td><td>20140514T000000</td><td>385000</td><td>4</td><td>1.75</td><td>1620</td><td>4980</td><td>1.0</td><td>0</td><td>0</td><td>4</td><td>7</td><td>860</td><td>760</td><td>1947</td><td>0</td><td>98133</td><td>47.7025</td><td>-122.341</td><td>1400</td><td>4980</td></tr><tr><th>22</th><td>2524049179</td><td>20140826T000000</td><td>2000000</td><td>3</td><td>2.75</td><td>3050</td><td>44867</td><td>1.0</td><td>0</td><td>4</td><td>3</td><td>9</td><td>2330</td><td>720</td><td>1968</td><td>0</td><td>98040</td><td>47.5316</td><td>-122.233</td><td>4110</td><td>20336</td></tr><tr><th>23</th><td>7137970340</td><td>20140703T000000</td><td>285000</td><td>5</td><td>2.5</td><td>2270</td><td>6300</td><td>2.0</td><td>0</td><td>0</td><td>3</td><td>8</td><td>2270</td><td>0</td><td>1995</td><td>0</td><td>98092</td><td>47.3266</td><td>-122.169</td><td>2240</td><td>7005</td></tr><tr><th>24</th><td>8091400200</td><td>20140516T000000</td><td>252700</td><td>2</td><td>1.5</td><td>1070</td><td>9643</td><td>1.0</td><td>0</td><td>0</td><td>3</td><td>7</td><td>1070</td><td>0</td><td>1985</td><td>0</td><td>98030</td><td>47.3533</td><td>-122.166</td><td>1220</td><td>8386</td></tr><tr><th>25</th><td>3814700200</td><td>20141120T000000</td><td>329000</td><td>3</td><td>2.25</td><td>2450</td><td>6500</td><td>2.0</td><td>0</td><td>0</td><td>4</td><td>8</td><td>2450</td><td>0</td><td>1985</td><td>0</td><td>98030</td><td>47.3739</td><td>-122.172</td><td>2200</td><td>6865</td></tr><tr><th>26</th><td>1202000200</td><td>20141103T000000</td><td>233000</td><td>3</td><td>2.0</td><td>1710</td><td>4697</td><td>1.5</td><td>0</td><td>0</td><td>5</td><td>6</td><td>1710</td><td>0</td><td>1941</td><td>0</td><td>98002</td><td>47.3048</td><td>-122.218</td><td>1030</td><td>4705</td></tr><tr><th>27</th><td>1794500383</td><td>20140626T000000</td><td>937000</td><td>3</td><td>1.75</td><td>2450</td><td>2691</td><td>2.0</td><td>0</td><td>0</td><td>3</td><td>8</td><td>1750</td><td>700</td><td>1915</td><td>0</td><td>98119</td><td>47.6386</td><td>-122.36</td><td>1760</td><td>3573</td></tr><tr><th>28</th><td>3303700376</td><td>20141201T000000</td><td>667000</td><td>3</td><td>1.0</td><td>1400</td><td>1581</td><td>1.5</td><td>0</td><td>0</td><td>5</td><td>8</td><td>1400</td><td>0</td><td>1909</td><td>0</td><td>98112</td><td>47.6221</td><td>-122.314</td><td>1860</td><td>3861</td></tr><tr><th>29</th><td>5101402488</td><td>20140624T000000</td><td>438000</td><td>3</td><td>1.75</td><td>1520</td><td>6380</td><td>1.0</td><td>0</td><td>0</td><td>3</td><td>7</td><td>790</td><td>730</td><td>1948</td><td>0</td><td>98115</td><td>47.695</td><td>-122.304</td><td>1520</td><td>6235</td></tr><tr><th>30</th><td>1873100390</td><td>20150302T000000</td><td>719000</td><td>4</td><td>2.5</td><td>2570</td><td>7173</td><td>2.0</td><td>0</td><td>0</td><td>3</td><td>8</td><td>2570</td><td>0</td><td>2005</td><td>0</td><td>98052</td><td>47.7073</td><td>-122.11</td><td>2630</td><td>6026</td></tr><tr><th>&vellip;</th><td>&vellip;</td><td>&vellip;</td><td>&vellip;</td><td>&vellip;</td><td>&vellip;</td><td>&vellip;</td><td>&vellip;</td><td>&vellip;</td><td>&vellip;</td><td>&vellip;</td><td>&vellip;</td><td>&vellip;</td><td>&vellip;</td><td>&vellip;</td><td>&vellip;</td><td>&vellip;</td><td>&vellip;</td><td>&vellip;</td><td>&vellip;</td><td>&vellip;</td><td>&vellip;</td></tr></table>"
      ],
      "text/plain": [
       "21613x21 DataFrame\n",
       "| Row   | id         | date              | price   | bedrooms | bathrooms |\n",
       "|-------|------------|-------------------|---------|----------|-----------|\n",
       "| 1     | 7129300520 | \"20141013T000000\" | 221900  | 3        | 1.0       |\n",
       "| 2     | 6414100192 | \"20141209T000000\" | 538000  | 3        | 2.25      |\n",
       "| 3     | 5631500400 | \"20150225T000000\" | 180000  | 2        | 1.0       |\n",
       "| 4     | 2487200875 | \"20141209T000000\" | 604000  | 4        | 3.0       |\n",
       "| 5     | 1954400510 | \"20150218T000000\" | 510000  | 3        | 2.0       |\n",
       "| 6     | 7237550310 | \"20140512T000000\" | 1225000 | 4        | 4.5       |\n",
       "| 7     | 1321400060 | \"20140627T000000\" | 257500  | 3        | 2.25      |\n",
       "| 8     | 2008000270 | \"20150115T000000\" | 291850  | 3        | 1.5       |\n",
       "| 9     | 2414600126 | \"20150415T000000\" | 229500  | 3        | 1.0       |\n",
       "| 10    | 3793500160 | \"20150312T000000\" | 323000  | 3        | 2.5       |\n",
       "| 11    | 1736800520 | \"20150403T000000\" | 662500  | 3        | 2.5       |\n",
       "⋮\n",
       "| 21602 | 5100403806 | \"20150407T000000\" | 467000  | 3        | 2.5       |\n",
       "| 21603 | 844000965  | \"20140626T000000\" | 224000  | 3        | 1.75      |\n",
       "| 21604 | 7852140040 | \"20140825T000000\" | 507250  | 3        | 2.5       |\n",
       "| 21605 | 9834201367 | \"20150126T000000\" | 429000  | 3        | 2.0       |\n",
       "| 21606 | 3448900210 | \"20141014T000000\" | 610685  | 4        | 2.5       |\n",
       "| 21607 | 7936000429 | \"20150326T000000\" | 1007500 | 4        | 3.5       |\n",
       "| 21608 | 2997800021 | \"20150219T000000\" | 475000  | 3        | 2.5       |\n",
       "| 21609 | 263000018  | \"20140521T000000\" | 360000  | 3        | 2.5       |\n",
       "| 21610 | 6600060120 | \"20150223T000000\" | 400000  | 4        | 2.5       |\n",
       "| 21611 | 1523300141 | \"20140623T000000\" | 402101  | 2        | 0.75      |\n",
       "| 21612 | 291310100  | \"20150116T000000\" | 400000  | 3        | 2.5       |\n",
       "| 21613 | 1523300157 | \"20141015T000000\" | 325000  | 2        | 0.75      |\n",
       "\n",
       "| Row   | sqft_living | sqft_lot | floors | waterfront | view | condition |\n",
       "|-------|-------------|----------|--------|------------|------|-----------|\n",
       "| 1     | 1180        | 5650     | 1.0    | 0          | 0    | 3         |\n",
       "| 2     | 2570        | 7242     | 2.0    | 0          | 0    | 3         |\n",
       "| 3     | 770         | 10000    | 1.0    | 0          | 0    | 3         |\n",
       "| 4     | 1960        | 5000     | 1.0    | 0          | 0    | 5         |\n",
       "| 5     | 1680        | 8080     | 1.0    | 0          | 0    | 3         |\n",
       "| 6     | 5420        | 101930   | 1.0    | 0          | 0    | 3         |\n",
       "| 7     | 1715        | 6819     | 2.0    | 0          | 0    | 3         |\n",
       "| 8     | 1060        | 9711     | 1.0    | 0          | 0    | 3         |\n",
       "| 9     | 1780        | 7470     | 1.0    | 0          | 0    | 3         |\n",
       "| 10    | 1890        | 6560     | 2.0    | 0          | 0    | 3         |\n",
       "| 11    | 3560        | 9796     | 1.0    | 0          | 0    | 3         |\n",
       "⋮\n",
       "| 21602 | 1425        | 1179     | 3.0    | 0          | 0    | 3         |\n",
       "| 21603 | 1500        | 11968    | 1.0    | 0          | 0    | 3         |\n",
       "| 21604 | 2270        | 5536     | 2.0    | 0          | 0    | 3         |\n",
       "| 21605 | 1490        | 1126     | 3.0    | 0          | 0    | 3         |\n",
       "| 21606 | 2520        | 6023     | 2.0    | 0          | 0    | 3         |\n",
       "| 21607 | 3510        | 7200     | 2.0    | 0          | 0    | 3         |\n",
       "| 21608 | 1310        | 1294     | 2.0    | 0          | 0    | 3         |\n",
       "| 21609 | 1530        | 1131     | 3.0    | 0          | 0    | 3         |\n",
       "| 21610 | 2310        | 5813     | 2.0    | 0          | 0    | 3         |\n",
       "| 21611 | 1020        | 1350     | 2.0    | 0          | 0    | 3         |\n",
       "| 21612 | 1600        | 2388     | 2.0    | 0          | 0    | 3         |\n",
       "| 21613 | 1020        | 1076     | 2.0    | 0          | 0    | 3         |\n",
       "\n",
       "| Row   | grade | sqft_above | sqft_basement | yr_built | yr_renovated |\n",
       "|-------|-------|------------|---------------|----------|--------------|\n",
       "| 1     | 7     | 1180       | 0             | 1955     | 0            |\n",
       "| 2     | 7     | 2170       | 400           | 1951     | 1991         |\n",
       "| 3     | 6     | 770        | 0             | 1933     | 0            |\n",
       "| 4     | 7     | 1050       | 910           | 1965     | 0            |\n",
       "| 5     | 8     | 1680       | 0             | 1987     | 0            |\n",
       "| 6     | 11    | 3890       | 1530          | 2001     | 0            |\n",
       "| 7     | 7     | 1715       | 0             | 1995     | 0            |\n",
       "| 8     | 7     | 1060       | 0             | 1963     | 0            |\n",
       "| 9     | 7     | 1050       | 730           | 1960     | 0            |\n",
       "| 10    | 7     | 1890       | 0             | 2003     | 0            |\n",
       "| 11    | 8     | 1860       | 1700          | 1965     | 0            |\n",
       "⋮\n",
       "| 21602 | 8     | 1425       | 0             | 2008     | 0            |\n",
       "| 21603 | 6     | 1500       | 0             | 2014     | 0            |\n",
       "| 21604 | 8     | 2270       | 0             | 2003     | 0            |\n",
       "| 21605 | 8     | 1490       | 0             | 2014     | 0            |\n",
       "| 21606 | 9     | 2520       | 0             | 2014     | 0            |\n",
       "| 21607 | 9     | 2600       | 910           | 2009     | 0            |\n",
       "| 21608 | 8     | 1180       | 130           | 2008     | 0            |\n",
       "| 21609 | 8     | 1530       | 0             | 2009     | 0            |\n",
       "| 21610 | 8     | 2310       | 0             | 2014     | 0            |\n",
       "| 21611 | 7     | 1020       | 0             | 2009     | 0            |\n",
       "| 21612 | 8     | 1600       | 0             | 2004     | 0            |\n",
       "| 21613 | 7     | 1020       | 0             | 2008     | 0            |\n",
       "\n",
       "| Row   | zipcode | lat     | long     | sqft_living15 | sqft_lot15 |\n",
       "|-------|---------|---------|----------|---------------|------------|\n",
       "| 1     | 98178   | 47.5112 | -122.257 | 1340          | 5650       |\n",
       "| 2     | 98125   | 47.721  | -122.319 | 1690          | 7639       |\n",
       "| 3     | 98028   | 47.7379 | -122.233 | 2720          | 8062       |\n",
       "| 4     | 98136   | 47.5208 | -122.393 | 1360          | 5000       |\n",
       "| 5     | 98074   | 47.6168 | -122.045 | 1800          | 7503       |\n",
       "| 6     | 98053   | 47.6561 | -122.005 | 4760          | 101930     |\n",
       "| 7     | 98003   | 47.3097 | -122.327 | 2238          | 6819       |\n",
       "| 8     | 98198   | 47.4095 | -122.315 | 1650          | 9711       |\n",
       "| 9     | 98146   | 47.5123 | -122.337 | 1780          | 8113       |\n",
       "| 10    | 98038   | 47.3684 | -122.031 | 2390          | 7570       |\n",
       "| 11    | 98007   | 47.6007 | -122.145 | 2210          | 8925       |\n",
       "⋮\n",
       "| 21602 | 98125   | 47.6963 | -122.318 | 1285          | 1253       |\n",
       "| 21603 | 98010   | 47.3095 | -122.002 | 1320          | 11303      |\n",
       "| 21604 | 98065   | 47.5389 | -121.881 | 2270          | 5731       |\n",
       "| 21605 | 98144   | 47.5699 | -122.288 | 1400          | 1230       |\n",
       "| 21606 | 98056   | 47.5137 | -122.167 | 2520          | 6023       |\n",
       "| 21607 | 98136   | 47.5537 | -122.398 | 2050          | 6200       |\n",
       "| 21608 | 98116   | 47.5773 | -122.409 | 1330          | 1265       |\n",
       "| 21609 | 98103   | 47.6993 | -122.346 | 1530          | 1509       |\n",
       "| 21610 | 98146   | 47.5107 | -122.362 | 1830          | 7200       |\n",
       "| 21611 | 98144   | 47.5944 | -122.299 | 1020          | 2007       |\n",
       "| 21612 | 98027   | 47.5345 | -122.069 | 1410          | 1287       |\n",
       "| 21613 | 98144   | 47.5941 | -122.299 | 1020          | 1357       |"
      ]
     },
     "execution_count": 2,
     "metadata": {},
     "output_type": "execute_result"
    }
   ],
   "source": [
    "df = readtable(\"C:/Users/JB/home_data.csv\")"
   ]
  },
  {
   "cell_type": "markdown",
   "metadata": {},
   "source": [
    "###Print top 6 rows of the DataFrame"
   ]
  },
  {
   "cell_type": "code",
   "execution_count": 3,
   "metadata": {
    "collapsed": false
   },
   "outputs": [
    {
     "data": {
      "text/html": [
       "<table class=\"data-frame\"><tr><th></th><th>id</th><th>date</th><th>price</th><th>bedrooms</th><th>bathrooms</th><th>sqft_living</th><th>sqft_lot</th><th>floors</th><th>waterfront</th><th>view</th><th>condition</th><th>grade</th><th>sqft_above</th><th>sqft_basement</th><th>yr_built</th><th>yr_renovated</th><th>zipcode</th><th>lat</th><th>long</th><th>sqft_living15</th><th>sqft_lot15</th></tr><tr><th>1</th><td>7129300520</td><td>20141013T000000</td><td>221900</td><td>3</td><td>1.0</td><td>1180</td><td>5650</td><td>1.0</td><td>0</td><td>0</td><td>3</td><td>7</td><td>1180</td><td>0</td><td>1955</td><td>0</td><td>98178</td><td>47.5112</td><td>-122.257</td><td>1340</td><td>5650</td></tr><tr><th>2</th><td>6414100192</td><td>20141209T000000</td><td>538000</td><td>3</td><td>2.25</td><td>2570</td><td>7242</td><td>2.0</td><td>0</td><td>0</td><td>3</td><td>7</td><td>2170</td><td>400</td><td>1951</td><td>1991</td><td>98125</td><td>47.721</td><td>-122.319</td><td>1690</td><td>7639</td></tr><tr><th>3</th><td>5631500400</td><td>20150225T000000</td><td>180000</td><td>2</td><td>1.0</td><td>770</td><td>10000</td><td>1.0</td><td>0</td><td>0</td><td>3</td><td>6</td><td>770</td><td>0</td><td>1933</td><td>0</td><td>98028</td><td>47.7379</td><td>-122.233</td><td>2720</td><td>8062</td></tr><tr><th>4</th><td>2487200875</td><td>20141209T000000</td><td>604000</td><td>4</td><td>3.0</td><td>1960</td><td>5000</td><td>1.0</td><td>0</td><td>0</td><td>5</td><td>7</td><td>1050</td><td>910</td><td>1965</td><td>0</td><td>98136</td><td>47.5208</td><td>-122.393</td><td>1360</td><td>5000</td></tr><tr><th>5</th><td>1954400510</td><td>20150218T000000</td><td>510000</td><td>3</td><td>2.0</td><td>1680</td><td>8080</td><td>1.0</td><td>0</td><td>0</td><td>3</td><td>8</td><td>1680</td><td>0</td><td>1987</td><td>0</td><td>98074</td><td>47.6168</td><td>-122.045</td><td>1800</td><td>7503</td></tr><tr><th>6</th><td>7237550310</td><td>20140512T000000</td><td>1225000</td><td>4</td><td>4.5</td><td>5420</td><td>101930</td><td>1.0</td><td>0</td><td>0</td><td>3</td><td>11</td><td>3890</td><td>1530</td><td>2001</td><td>0</td><td>98053</td><td>47.6561</td><td>-122.005</td><td>4760</td><td>101930</td></tr></table>"
      ],
      "text/plain": [
       "6x21 DataFrame\n",
       "| Row | id         | date              | price   | bedrooms | bathrooms |\n",
       "|-----|------------|-------------------|---------|----------|-----------|\n",
       "| 1   | 7129300520 | \"20141013T000000\" | 221900  | 3        | 1.0       |\n",
       "| 2   | 6414100192 | \"20141209T000000\" | 538000  | 3        | 2.25      |\n",
       "| 3   | 5631500400 | \"20150225T000000\" | 180000  | 2        | 1.0       |\n",
       "| 4   | 2487200875 | \"20141209T000000\" | 604000  | 4        | 3.0       |\n",
       "| 5   | 1954400510 | \"20150218T000000\" | 510000  | 3        | 2.0       |\n",
       "| 6   | 7237550310 | \"20140512T000000\" | 1225000 | 4        | 4.5       |\n",
       "\n",
       "| Row | sqft_living | sqft_lot | floors | waterfront | view | condition |\n",
       "|-----|-------------|----------|--------|------------|------|-----------|\n",
       "| 1   | 1180        | 5650     | 1.0    | 0          | 0    | 3         |\n",
       "| 2   | 2570        | 7242     | 2.0    | 0          | 0    | 3         |\n",
       "| 3   | 770         | 10000    | 1.0    | 0          | 0    | 3         |\n",
       "| 4   | 1960        | 5000     | 1.0    | 0          | 0    | 5         |\n",
       "| 5   | 1680        | 8080     | 1.0    | 0          | 0    | 3         |\n",
       "| 6   | 5420        | 101930   | 1.0    | 0          | 0    | 3         |\n",
       "\n",
       "| Row | grade | sqft_above | sqft_basement | yr_built | yr_renovated | zipcode |\n",
       "|-----|-------|------------|---------------|----------|--------------|---------|\n",
       "| 1   | 7     | 1180       | 0             | 1955     | 0            | 98178   |\n",
       "| 2   | 7     | 2170       | 400           | 1951     | 1991         | 98125   |\n",
       "| 3   | 6     | 770        | 0             | 1933     | 0            | 98028   |\n",
       "| 4   | 7     | 1050       | 910           | 1965     | 0            | 98136   |\n",
       "| 5   | 8     | 1680       | 0             | 1987     | 0            | 98074   |\n",
       "| 6   | 11    | 3890       | 1530          | 2001     | 0            | 98053   |\n",
       "\n",
       "| Row | lat     | long     | sqft_living15 | sqft_lot15 |\n",
       "|-----|---------|----------|---------------|------------|\n",
       "| 1   | 47.5112 | -122.257 | 1340          | 5650       |\n",
       "| 2   | 47.721  | -122.319 | 1690          | 7639       |\n",
       "| 3   | 47.7379 | -122.233 | 2720          | 8062       |\n",
       "| 4   | 47.5208 | -122.393 | 1360          | 5000       |\n",
       "| 5   | 47.6168 | -122.045 | 1800          | 7503       |\n",
       "| 6   | 47.6561 | -122.005 | 4760          | 101930     |"
      ]
     },
     "execution_count": 3,
     "metadata": {},
     "output_type": "execute_result"
    }
   ],
   "source": [
    "head(df)"
   ]
  },
  {
   "cell_type": "markdown",
   "metadata": {},
   "source": [
    "###Print bottom 6 rows of the DataFrame"
   ]
  },
  {
   "cell_type": "code",
   "execution_count": 4,
   "metadata": {
    "collapsed": false
   },
   "outputs": [
    {
     "data": {
      "text/html": [
       "<table class=\"data-frame\"><tr><th></th><th>id</th><th>date</th><th>price</th><th>bedrooms</th><th>bathrooms</th><th>sqft_living</th><th>sqft_lot</th><th>floors</th><th>waterfront</th><th>view</th><th>condition</th><th>grade</th><th>sqft_above</th><th>sqft_basement</th><th>yr_built</th><th>yr_renovated</th><th>zipcode</th><th>lat</th><th>long</th><th>sqft_living15</th><th>sqft_lot15</th></tr><tr><th>1</th><td>2997800021</td><td>20150219T000000</td><td>475000</td><td>3</td><td>2.5</td><td>1310</td><td>1294</td><td>2.0</td><td>0</td><td>0</td><td>3</td><td>8</td><td>1180</td><td>130</td><td>2008</td><td>0</td><td>98116</td><td>47.5773</td><td>-122.409</td><td>1330</td><td>1265</td></tr><tr><th>2</th><td>263000018</td><td>20140521T000000</td><td>360000</td><td>3</td><td>2.5</td><td>1530</td><td>1131</td><td>3.0</td><td>0</td><td>0</td><td>3</td><td>8</td><td>1530</td><td>0</td><td>2009</td><td>0</td><td>98103</td><td>47.6993</td><td>-122.346</td><td>1530</td><td>1509</td></tr><tr><th>3</th><td>6600060120</td><td>20150223T000000</td><td>400000</td><td>4</td><td>2.5</td><td>2310</td><td>5813</td><td>2.0</td><td>0</td><td>0</td><td>3</td><td>8</td><td>2310</td><td>0</td><td>2014</td><td>0</td><td>98146</td><td>47.5107</td><td>-122.362</td><td>1830</td><td>7200</td></tr><tr><th>4</th><td>1523300141</td><td>20140623T000000</td><td>402101</td><td>2</td><td>0.75</td><td>1020</td><td>1350</td><td>2.0</td><td>0</td><td>0</td><td>3</td><td>7</td><td>1020</td><td>0</td><td>2009</td><td>0</td><td>98144</td><td>47.5944</td><td>-122.299</td><td>1020</td><td>2007</td></tr><tr><th>5</th><td>291310100</td><td>20150116T000000</td><td>400000</td><td>3</td><td>2.5</td><td>1600</td><td>2388</td><td>2.0</td><td>0</td><td>0</td><td>3</td><td>8</td><td>1600</td><td>0</td><td>2004</td><td>0</td><td>98027</td><td>47.5345</td><td>-122.069</td><td>1410</td><td>1287</td></tr><tr><th>6</th><td>1523300157</td><td>20141015T000000</td><td>325000</td><td>2</td><td>0.75</td><td>1020</td><td>1076</td><td>2.0</td><td>0</td><td>0</td><td>3</td><td>7</td><td>1020</td><td>0</td><td>2008</td><td>0</td><td>98144</td><td>47.5941</td><td>-122.299</td><td>1020</td><td>1357</td></tr></table>"
      ],
      "text/plain": [
       "6x21 DataFrame\n",
       "| Row | id         | date              | price  | bedrooms | bathrooms |\n",
       "|-----|------------|-------------------|--------|----------|-----------|\n",
       "| 1   | 2997800021 | \"20150219T000000\" | 475000 | 3        | 2.5       |\n",
       "| 2   | 263000018  | \"20140521T000000\" | 360000 | 3        | 2.5       |\n",
       "| 3   | 6600060120 | \"20150223T000000\" | 400000 | 4        | 2.5       |\n",
       "| 4   | 1523300141 | \"20140623T000000\" | 402101 | 2        | 0.75      |\n",
       "| 5   | 291310100  | \"20150116T000000\" | 400000 | 3        | 2.5       |\n",
       "| 6   | 1523300157 | \"20141015T000000\" | 325000 | 2        | 0.75      |\n",
       "\n",
       "| Row | sqft_living | sqft_lot | floors | waterfront | view | condition |\n",
       "|-----|-------------|----------|--------|------------|------|-----------|\n",
       "| 1   | 1310        | 1294     | 2.0    | 0          | 0    | 3         |\n",
       "| 2   | 1530        | 1131     | 3.0    | 0          | 0    | 3         |\n",
       "| 3   | 2310        | 5813     | 2.0    | 0          | 0    | 3         |\n",
       "| 4   | 1020        | 1350     | 2.0    | 0          | 0    | 3         |\n",
       "| 5   | 1600        | 2388     | 2.0    | 0          | 0    | 3         |\n",
       "| 6   | 1020        | 1076     | 2.0    | 0          | 0    | 3         |\n",
       "\n",
       "| Row | grade | sqft_above | sqft_basement | yr_built | yr_renovated | zipcode |\n",
       "|-----|-------|------------|---------------|----------|--------------|---------|\n",
       "| 1   | 8     | 1180       | 130           | 2008     | 0            | 98116   |\n",
       "| 2   | 8     | 1530       | 0             | 2009     | 0            | 98103   |\n",
       "| 3   | 8     | 2310       | 0             | 2014     | 0            | 98146   |\n",
       "| 4   | 7     | 1020       | 0             | 2009     | 0            | 98144   |\n",
       "| 5   | 8     | 1600       | 0             | 2004     | 0            | 98027   |\n",
       "| 6   | 7     | 1020       | 0             | 2008     | 0            | 98144   |\n",
       "\n",
       "| Row | lat     | long     | sqft_living15 | sqft_lot15 |\n",
       "|-----|---------|----------|---------------|------------|\n",
       "| 1   | 47.5773 | -122.409 | 1330          | 1265       |\n",
       "| 2   | 47.6993 | -122.346 | 1530          | 1509       |\n",
       "| 3   | 47.5107 | -122.362 | 1830          | 7200       |\n",
       "| 4   | 47.5944 | -122.299 | 1020          | 2007       |\n",
       "| 5   | 47.5345 | -122.069 | 1410          | 1287       |\n",
       "| 6   | 47.5941 | -122.299 | 1020          | 1357       |"
      ]
     },
     "execution_count": 4,
     "metadata": {},
     "output_type": "execute_result"
    }
   ],
   "source": [
    "tail(df)"
   ]
  },
  {
   "cell_type": "markdown",
   "metadata": {},
   "source": [
    "###Find the dimension of DataFrame"
   ]
  },
  {
   "cell_type": "code",
   "execution_count": 5,
   "metadata": {
    "collapsed": false
   },
   "outputs": [
    {
     "data": {
      "text/plain": [
       "(21613,21)"
      ]
     },
     "execution_count": 5,
     "metadata": {},
     "output_type": "execute_result"
    }
   ],
   "source": [
    "size(df)"
   ]
  },
  {
   "cell_type": "markdown",
   "metadata": {},
   "source": [
    "size prints DataFrame  df has 21613 rows and 21 columns"
   ]
  },
  {
   "cell_type": "markdown",
   "metadata": {},
   "source": [
    "###Summarize the total number of bedrooms in the dataset"
   ]
  },
  {
   "cell_type": "code",
   "execution_count": 6,
   "metadata": {
    "collapsed": false
   },
   "outputs": [
    {
     "name": "stdout",
     "output_type": "stream",
     "text": [
      "Summary Stats:\n",
      "Mean:         3.370842\n",
      "Minimum:      0.000000\n",
      "1st Quartile: 3.000000\n",
      "Median:       3.000000\n",
      "3rd Quartile: 4.000000\n",
      "Maximum:      33.000000\n"
     ]
    }
   ],
   "source": [
    "describe(df[:bedrooms])"
   ]
  },
  {
   "cell_type": "markdown",
   "metadata": {},
   "source": [
    "###Find the mean value of price in the dataset"
   ]
  },
  {
   "cell_type": "code",
   "execution_count": 7,
   "metadata": {
    "collapsed": false
   },
   "outputs": [
    {
     "data": {
      "text/plain": [
       "540088.1419053348"
      ]
     },
     "execution_count": 7,
     "metadata": {},
     "output_type": "execute_result"
    }
   ],
   "source": [
    "mean(df[:price])"
   ]
  },
  {
   "cell_type": "markdown",
   "metadata": {},
   "source": [
    "###Find the median value of sqft_living"
   ]
  },
  {
   "cell_type": "code",
   "execution_count": 8,
   "metadata": {
    "collapsed": false
   },
   "outputs": [
    {
     "data": {
      "text/plain": [
       "1910.0"
      ]
     },
     "execution_count": 8,
     "metadata": {},
     "output_type": "execute_result"
    }
   ],
   "source": [
    "median(df[:sqft_living])"
   ]
  },
  {
   "cell_type": "markdown",
   "metadata": {},
   "source": [
    "###Subset data for house with 2 bedrooms"
   ]
  },
  {
   "cell_type": "code",
   "execution_count": 9,
   "metadata": {
    "collapsed": false,
    "scrolled": true
   },
   "outputs": [
    {
     "data": {
      "text/html": [
       "<table class=\"data-frame\"><tr><th></th><th>id</th><th>date</th><th>price</th><th>bedrooms</th><th>bathrooms</th><th>sqft_living</th><th>sqft_lot</th><th>floors</th><th>waterfront</th><th>view</th><th>condition</th><th>grade</th><th>sqft_above</th><th>sqft_basement</th><th>yr_built</th><th>yr_renovated</th><th>zipcode</th><th>lat</th><th>long</th><th>sqft_living15</th><th>sqft_lot15</th></tr><tr><th>1</th><td>5631500400</td><td>20150225T000000</td><td>180000</td><td>2</td><td>1.0</td><td>770</td><td>10000</td><td>1.0</td><td>0</td><td>0</td><td>3</td><td>6</td><td>770</td><td>0</td><td>1933</td><td>0</td><td>98028</td><td>47.7379</td><td>-122.233</td><td>2720</td><td>8062</td></tr><tr><th>2</th><td>9212900260</td><td>20140527T000000</td><td>468000</td><td>2</td><td>1.0</td><td>1160</td><td>6000</td><td>1.0</td><td>0</td><td>0</td><td>4</td><td>7</td><td>860</td><td>300</td><td>1942</td><td>0</td><td>98115</td><td>47.69</td><td>-122.292</td><td>1330</td><td>6000</td></tr><tr><th>3</th><td>16000397</td><td>20141205T000000</td><td>189000</td><td>2</td><td>1.0</td><td>1200</td><td>9850</td><td>1.0</td><td>0</td><td>0</td><td>4</td><td>7</td><td>1200</td><td>0</td><td>1921</td><td>0</td><td>98002</td><td>47.3089</td><td>-122.21</td><td>1060</td><td>5095</td></tr><tr><th>4</th><td>8091400200</td><td>20140516T000000</td><td>252700</td><td>2</td><td>1.5</td><td>1070</td><td>9643</td><td>1.0</td><td>0</td><td>0</td><td>3</td><td>7</td><td>1070</td><td>0</td><td>1985</td><td>0</td><td>98030</td><td>47.3533</td><td>-122.166</td><td>1220</td><td>8386</td></tr><tr><th>5</th><td>2426039314</td><td>20141201T000000</td><td>280000</td><td>2</td><td>1.5</td><td>1190</td><td>1265</td><td>3.0</td><td>0</td><td>0</td><td>3</td><td>7</td><td>1190</td><td>0</td><td>2005</td><td>0</td><td>98133</td><td>47.7274</td><td>-122.357</td><td>1390</td><td>1756</td></tr><tr><th>6</th><td>3626039271</td><td>20150205T000000</td><td>585000</td><td>2</td><td>1.75</td><td>1980</td><td>8550</td><td>1.0</td><td>0</td><td>0</td><td>3</td><td>7</td><td>990</td><td>990</td><td>1981</td><td>0</td><td>98117</td><td>47.6989</td><td>-122.369</td><td>1480</td><td>6738</td></tr><tr><th>7</th><td>9418400240</td><td>20141028T000000</td><td>355000</td><td>2</td><td>1.0</td><td>2020</td><td>6720</td><td>1.0</td><td>0</td><td>0</td><td>3</td><td>7</td><td>1010</td><td>1010</td><td>1948</td><td>0</td><td>98118</td><td>47.5474</td><td>-122.291</td><td>1720</td><td>6720</td></tr><tr><th>8</th><td>1332700270</td><td>20140519T000000</td><td>215000</td><td>2</td><td>2.25</td><td>1610</td><td>2040</td><td>2.0</td><td>0</td><td>0</td><td>4</td><td>7</td><td>1610</td><td>0</td><td>1979</td><td>0</td><td>98056</td><td>47.518</td><td>-122.194</td><td>1950</td><td>2025</td></tr><tr><th>9</th><td>3869900162</td><td>20140904T000000</td><td>335000</td><td>2</td><td>1.75</td><td>1030</td><td>1066</td><td>2.0</td><td>0</td><td>0</td><td>3</td><td>7</td><td>765</td><td>265</td><td>2006</td><td>0</td><td>98136</td><td>47.5394</td><td>-122.387</td><td>1030</td><td>1106</td></tr><tr><th>10</th><td>3530510041</td><td>20140723T000000</td><td>188500</td><td>2</td><td>1.75</td><td>1240</td><td>2493</td><td>1.0</td><td>0</td><td>0</td><td>4</td><td>8</td><td>1240</td><td>0</td><td>1985</td><td>0</td><td>98198</td><td>47.3813</td><td>-122.322</td><td>1270</td><td>4966</td></tr><tr><th>11</th><td>4060000240</td><td>20140623T000000</td><td>205425</td><td>2</td><td>1.0</td><td>880</td><td>6780</td><td>1.0</td><td>0</td><td>0</td><td>4</td><td>6</td><td>880</td><td>0</td><td>1945</td><td>0</td><td>98178</td><td>47.5009</td><td>-122.248</td><td>1190</td><td>6780</td></tr><tr><th>12</th><td>3626039187</td><td>20150406T000000</td><td>395000</td><td>2</td><td>1.0</td><td>770</td><td>6000</td><td>1.0</td><td>0</td><td>0</td><td>3</td><td>6</td><td>770</td><td>0</td><td>1953</td><td>0</td><td>98117</td><td>47.6999</td><td>-122.364</td><td>1710</td><td>6000</td></tr><tr><th>13</th><td>3992700335</td><td>20140707T000000</td><td>382500</td><td>2</td><td>1.0</td><td>1190</td><td>4440</td><td>1.0</td><td>0</td><td>0</td><td>3</td><td>6</td><td>1190</td><td>0</td><td>1981</td><td>0</td><td>98125</td><td>47.7135</td><td>-122.287</td><td>1060</td><td>5715</td></tr><tr><th>14</th><td>4232901525</td><td>20140627T000000</td><td>665000</td><td>2</td><td>1.0</td><td>1110</td><td>3200</td><td>1.0</td><td>0</td><td>0</td><td>3</td><td>7</td><td>1110</td><td>0</td><td>1925</td><td>0</td><td>98119</td><td>47.6338</td><td>-122.358</td><td>1170</td><td>3600</td></tr><tr><th>15</th><td>3224079105</td><td>20140806T000000</td><td>430000</td><td>2</td><td>2.5</td><td>2420</td><td>60984</td><td>2.0</td><td>0</td><td>0</td><td>3</td><td>7</td><td>2420</td><td>0</td><td>2007</td><td>0</td><td>98027</td><td>47.5262</td><td>-121.943</td><td>1940</td><td>193842</td></tr><tr><th>16</th><td>2009000370</td><td>20150219T000000</td><td>269950</td><td>2</td><td>1.75</td><td>1340</td><td>7250</td><td>1.0</td><td>0</td><td>0</td><td>5</td><td>5</td><td>700</td><td>640</td><td>1949</td><td>0</td><td>98198</td><td>47.408</td><td>-122.327</td><td>1830</td><td>9750</td></tr><tr><th>17</th><td>9158100075</td><td>20150107T000000</td><td>330000</td><td>2</td><td>1.0</td><td>1350</td><td>8220</td><td>1.0</td><td>0</td><td>0</td><td>3</td><td>7</td><td>1060</td><td>290</td><td>1949</td><td>0</td><td>98177</td><td>47.7224</td><td>-122.358</td><td>1540</td><td>8280</td></tr><tr><th>18</th><td>6661200320</td><td>20140723T000000</td><td>163500</td><td>2</td><td>1.5</td><td>1050</td><td>3419</td><td>2.0</td><td>0</td><td>0</td><td>3</td><td>7</td><td>1050</td><td>0</td><td>1996</td><td>0</td><td>98038</td><td>47.3848</td><td>-122.039</td><td>1050</td><td>3417</td></tr><tr><th>19</th><td>1222000055</td><td>20141123T000000</td><td>180250</td><td>2</td><td>0.75</td><td>900</td><td>9600</td><td>1.0</td><td>0</td><td>0</td><td>3</td><td>6</td><td>900</td><td>0</td><td>1941</td><td>0</td><td>98166</td><td>47.4604</td><td>-122.339</td><td>1250</td><td>14280</td></tr><tr><th>20</th><td>257000138</td><td>20150115T000000</td><td>280000</td><td>2</td><td>1.0</td><td>850</td><td>16400</td><td>1.0</td><td>0</td><td>0</td><td>3</td><td>6</td><td>850</td><td>0</td><td>1923</td><td>0</td><td>98168</td><td>47.4889</td><td>-122.299</td><td>1100</td><td>14459</td></tr><tr><th>21</th><td>1250202145</td><td>20140828T000000</td><td>1072000</td><td>2</td><td>2.25</td><td>3900</td><td>14864</td><td>1.0</td><td>0</td><td>3</td><td>3</td><td>8</td><td>1950</td><td>1950</td><td>1947</td><td>0</td><td>98144</td><td>47.5884</td><td>-122.291</td><td>2580</td><td>5184</td></tr><tr><th>22</th><td>7611200125</td><td>20141023T000000</td><td>467000</td><td>2</td><td>1.5</td><td>1320</td><td>10800</td><td>1.0</td><td>0</td><td>0</td><td>4</td><td>8</td><td>1320</td><td>0</td><td>1947</td><td>0</td><td>98177</td><td>47.7145</td><td>-122.367</td><td>2120</td><td>12040</td></tr><tr><th>23</th><td>8682281200</td><td>20150309T000000</td><td>479950</td><td>2</td><td>2.0</td><td>1510</td><td>6516</td><td>1.0</td><td>0</td><td>0</td><td>3</td><td>8</td><td>1510</td><td>0</td><td>2005</td><td>0</td><td>98053</td><td>47.7076</td><td>-122.013</td><td>1640</td><td>6009</td></tr><tr><th>24</th><td>8096000060</td><td>20150413T000000</td><td>655000</td><td>2</td><td>1.75</td><td>1450</td><td>15798</td><td>2.0</td><td>1</td><td>4</td><td>3</td><td>7</td><td>1230</td><td>220</td><td>1915</td><td>1978</td><td>98166</td><td>47.4497</td><td>-122.375</td><td>2030</td><td>13193</td></tr><tr><th>25</th><td>943100260</td><td>20141120T000000</td><td>213000</td><td>2</td><td>1.0</td><td>1000</td><td>10200</td><td>1.0</td><td>0</td><td>0</td><td>3</td><td>6</td><td>1000</td><td>0</td><td>1961</td><td>0</td><td>98024</td><td>47.5687</td><td>-121.899</td><td>1150</td><td>13702</td></tr><tr><th>26</th><td>8150100045</td><td>20141001T000000</td><td>210000</td><td>2</td><td>1.0</td><td>830</td><td>6000</td><td>1.0</td><td>0</td><td>0</td><td>3</td><td>6</td><td>830</td><td>0</td><td>1940</td><td>0</td><td>98126</td><td>47.5308</td><td>-122.376</td><td>830</td><td>4960</td></tr><tr><th>27</th><td>1868901275</td><td>20150127T000000</td><td>455000</td><td>2</td><td>1.0</td><td>1430</td><td>5000</td><td>1.5</td><td>0</td><td>0</td><td>2</td><td>7</td><td>1430</td><td>0</td><td>1925</td><td>0</td><td>98115</td><td>47.6727</td><td>-122.299</td><td>1450</td><td>3750</td></tr><tr><th>28</th><td>9468200125</td><td>20140826T000000</td><td>480000</td><td>2</td><td>1.0</td><td>1030</td><td>3060</td><td>1.0</td><td>0</td><td>2</td><td>4</td><td>7</td><td>790</td><td>240</td><td>1918</td><td>0</td><td>98103</td><td>47.6779</td><td>-122.353</td><td>1390</td><td>3060</td></tr><tr><th>29</th><td>7899800890</td><td>20150226T000000</td><td>181000</td><td>2</td><td>1.5</td><td>720</td><td>5120</td><td>1.0</td><td>0</td><td>0</td><td>3</td><td>6</td><td>720</td><td>0</td><td>1954</td><td>0</td><td>98106</td><td>47.5218</td><td>-122.357</td><td>1150</td><td>2566</td></tr><tr><th>30</th><td>5101404898</td><td>20140519T000000</td><td>592500</td><td>2</td><td>2.0</td><td>1420</td><td>9191</td><td>1.5</td><td>0</td><td>2</td><td>5</td><td>7</td><td>1420</td><td>0</td><td>1928</td><td>0</td><td>98115</td><td>47.6979</td><td>-122.32</td><td>1420</td><td>6816</td></tr><tr><th>&vellip;</th><td>&vellip;</td><td>&vellip;</td><td>&vellip;</td><td>&vellip;</td><td>&vellip;</td><td>&vellip;</td><td>&vellip;</td><td>&vellip;</td><td>&vellip;</td><td>&vellip;</td><td>&vellip;</td><td>&vellip;</td><td>&vellip;</td><td>&vellip;</td><td>&vellip;</td><td>&vellip;</td><td>&vellip;</td><td>&vellip;</td><td>&vellip;</td><td>&vellip;</td><td>&vellip;</td></tr></table>"
      ],
      "text/plain": [
       "2760x21 DataFrame\n",
       "| Row  | id         | date              | price   | bedrooms | bathrooms |\n",
       "|------|------------|-------------------|---------|----------|-----------|\n",
       "| 1    | 5631500400 | \"20150225T000000\" | 180000  | 2        | 1.0       |\n",
       "| 2    | 9212900260 | \"20140527T000000\" | 468000  | 2        | 1.0       |\n",
       "| 3    | 16000397   | \"20141205T000000\" | 189000  | 2        | 1.0       |\n",
       "| 4    | 8091400200 | \"20140516T000000\" | 252700  | 2        | 1.5       |\n",
       "| 5    | 2426039314 | \"20141201T000000\" | 280000  | 2        | 1.5       |\n",
       "| 6    | 3626039271 | \"20150205T000000\" | 585000  | 2        | 1.75      |\n",
       "| 7    | 9418400240 | \"20141028T000000\" | 355000  | 2        | 1.0       |\n",
       "| 8    | 1332700270 | \"20140519T000000\" | 215000  | 2        | 2.25      |\n",
       "| 9    | 3869900162 | \"20140904T000000\" | 335000  | 2        | 1.75      |\n",
       "| 10   | 3530510041 | \"20140723T000000\" | 188500  | 2        | 1.75      |\n",
       "| 11   | 4060000240 | \"20140623T000000\" | 205425  | 2        | 1.0       |\n",
       "⋮\n",
       "| 2749 | 3277800823 | \"20140820T000000\" | 327000  | 2        | 2.0       |\n",
       "| 2750 | 8835770330 | \"20140819T000000\" | 1057000 | 2        | 1.5       |\n",
       "| 2751 | 476000017  | \"20141003T000000\" | 553000  | 2        | 2.0       |\n",
       "| 2752 | 3438501329 | \"20140520T000000\" | 305000  | 2        | 2.5       |\n",
       "| 2753 | 6021503705 | \"20141015T000000\" | 329000  | 2        | 2.5       |\n",
       "| 2754 | 567000385  | \"20140623T000000\" | 362500  | 2        | 1.5       |\n",
       "| 2755 | 2025049203 | \"20140610T000000\" | 399950  | 2        | 1.0       |\n",
       "| 2756 | 2767604724 | \"20141015T000000\" | 505000  | 2        | 2.5       |\n",
       "| 2757 | 2767600688 | \"20141113T000000\" | 414500  | 2        | 1.5       |\n",
       "| 2758 | 1972201967 | \"20141031T000000\" | 520000  | 2        | 2.25      |\n",
       "| 2759 | 1523300141 | \"20140623T000000\" | 402101  | 2        | 0.75      |\n",
       "| 2760 | 1523300157 | \"20141015T000000\" | 325000  | 2        | 0.75      |\n",
       "\n",
       "| Row  | sqft_living | sqft_lot | floors | waterfront | view | condition |\n",
       "|------|-------------|----------|--------|------------|------|-----------|\n",
       "| 1    | 770         | 10000    | 1.0    | 0          | 0    | 3         |\n",
       "| 2    | 1160        | 6000     | 1.0    | 0          | 0    | 4         |\n",
       "| 3    | 1200        | 9850     | 1.0    | 0          | 0    | 4         |\n",
       "| 4    | 1070        | 9643     | 1.0    | 0          | 0    | 3         |\n",
       "| 5    | 1190        | 1265     | 3.0    | 0          | 0    | 3         |\n",
       "| 6    | 1980        | 8550     | 1.0    | 0          | 0    | 3         |\n",
       "| 7    | 2020        | 6720     | 1.0    | 0          | 0    | 3         |\n",
       "| 8    | 1610        | 2040     | 2.0    | 0          | 0    | 4         |\n",
       "| 9    | 1030        | 1066     | 2.0    | 0          | 0    | 3         |\n",
       "| 10   | 1240        | 2493     | 1.0    | 0          | 0    | 4         |\n",
       "| 11   | 880         | 6780     | 1.0    | 0          | 0    | 4         |\n",
       "⋮\n",
       "| 2749 | 1490        | 1627     | 2.0    | 0          | 0    | 3         |\n",
       "| 2750 | 2370        | 184231   | 2.0    | 0          | 0    | 3         |\n",
       "| 2751 | 1400        | 1512     | 2.0    | 0          | 0    | 3         |\n",
       "| 2752 | 1590        | 2656     | 2.0    | 0          | 0    | 3         |\n",
       "| 2753 | 980         | 1020     | 3.0    | 0          | 0    | 3         |\n",
       "| 2754 | 940         | 1768     | 2.0    | 0          | 0    | 3         |\n",
       "| 2755 | 710         | 1157     | 2.0    | 0          | 0    | 4         |\n",
       "| 2756 | 1430        | 1201     | 3.0    | 0          | 0    | 3         |\n",
       "| 2757 | 1210        | 1278     | 2.0    | 0          | 0    | 3         |\n",
       "| 2758 | 1530        | 981      | 3.0    | 0          | 0    | 3         |\n",
       "| 2759 | 1020        | 1350     | 2.0    | 0          | 0    | 3         |\n",
       "| 2760 | 1020        | 1076     | 2.0    | 0          | 0    | 3         |\n",
       "\n",
       "| Row  | grade | sqft_above | sqft_basement | yr_built | yr_renovated |\n",
       "|------|-------|------------|---------------|----------|--------------|\n",
       "| 1    | 6     | 770        | 0             | 1933     | 0            |\n",
       "| 2    | 7     | 860        | 300           | 1942     | 0            |\n",
       "| 3    | 7     | 1200       | 0             | 1921     | 0            |\n",
       "| 4    | 7     | 1070       | 0             | 1985     | 0            |\n",
       "| 5    | 7     | 1190       | 0             | 2005     | 0            |\n",
       "| 6    | 7     | 990        | 990           | 1981     | 0            |\n",
       "| 7    | 7     | 1010       | 1010          | 1948     | 0            |\n",
       "| 8    | 7     | 1610       | 0             | 1979     | 0            |\n",
       "| 9    | 7     | 765        | 265           | 2006     | 0            |\n",
       "| 10   | 8     | 1240       | 0             | 1985     | 0            |\n",
       "| 11   | 6     | 880        | 0             | 1945     | 0            |\n",
       "⋮\n",
       "| 2749 | 8     | 1190       | 300           | 2009     | 0            |\n",
       "| 2750 | 11    | 2370       | 0             | 2005     | 0            |\n",
       "| 2751 | 8     | 940        | 460           | 2006     | 0            |\n",
       "| 2752 | 7     | 1220       | 370           | 2009     | 0            |\n",
       "| 2753 | 8     | 980        | 0             | 2008     | 0            |\n",
       "| 2754 | 7     | 940        | 0             | 2009     | 0            |\n",
       "| 2755 | 7     | 710        | 0             | 1943     | 0            |\n",
       "| 2756 | 8     | 1430       | 0             | 2009     | 0            |\n",
       "| 2757 | 8     | 1020       | 190           | 2007     | 0            |\n",
       "| 2758 | 8     | 1480       | 50            | 2006     | 0            |\n",
       "| 2759 | 7     | 1020       | 0             | 2009     | 0            |\n",
       "| 2760 | 7     | 1020       | 0             | 2008     | 0            |\n",
       "\n",
       "| Row  | zipcode | lat     | long     | sqft_living15 | sqft_lot15 |\n",
       "|------|---------|---------|----------|---------------|------------|\n",
       "| 1    | 98028   | 47.7379 | -122.233 | 2720          | 8062       |\n",
       "| 2    | 98115   | 47.69   | -122.292 | 1330          | 6000       |\n",
       "| 3    | 98002   | 47.3089 | -122.21  | 1060          | 5095       |\n",
       "| 4    | 98030   | 47.3533 | -122.166 | 1220          | 8386       |\n",
       "| 5    | 98133   | 47.7274 | -122.357 | 1390          | 1756       |\n",
       "| 6    | 98117   | 47.6989 | -122.369 | 1480          | 6738       |\n",
       "| 7    | 98118   | 47.5474 | -122.291 | 1720          | 6720       |\n",
       "| 8    | 98056   | 47.518  | -122.194 | 1950          | 2025       |\n",
       "| 9    | 98136   | 47.5394 | -122.387 | 1030          | 1106       |\n",
       "| 10   | 98198   | 47.3813 | -122.322 | 1270          | 4966       |\n",
       "| 11   | 98178   | 47.5009 | -122.248 | 1190          | 6780       |\n",
       "⋮\n",
       "| 2749 | 98126   | 47.5455 | -122.375 | 1400          | 1498       |\n",
       "| 2750 | 98045   | 47.4543 | -121.778 | 3860          | 151081     |\n",
       "| 2751 | 98107   | 47.6719 | -122.392 | 1400          | 3500       |\n",
       "| 2752 | 98106   | 47.5489 | -122.364 | 1590          | 2306       |\n",
       "| 2753 | 98117   | 47.6844 | -122.387 | 980           | 1023       |\n",
       "| 2754 | 98144   | 47.5925 | -122.295 | 1130          | 1159       |\n",
       "| 2755 | 98102   | 47.6413 | -122.329 | 1370          | 1173       |\n",
       "| 2756 | 98107   | 47.6707 | -122.381 | 1430          | 1249       |\n",
       "| 2757 | 98117   | 47.6756 | -122.375 | 1210          | 1118       |\n",
       "| 2758 | 98103   | 47.6533 | -122.346 | 1530          | 1282       |\n",
       "| 2759 | 98144   | 47.5944 | -122.299 | 1020          | 2007       |\n",
       "| 2760 | 98144   | 47.5941 | -122.299 | 1020          | 1357       |"
      ]
     },
     "execution_count": 9,
     "metadata": {},
     "output_type": "execute_result"
    }
   ],
   "source": [
    "twoBedroom_data = df[df[:bedrooms] .== 2,:]"
   ]
  },
  {
   "cell_type": "code",
   "execution_count": 10,
   "metadata": {
    "collapsed": false
   },
   "outputs": [
    {
     "data": {
      "text/plain": [
       "(2760,21)"
      ]
     },
     "execution_count": 10,
     "metadata": {},
     "output_type": "execute_result"
    }
   ],
   "source": [
    "size(twoBedroom_data)"
   ]
  },
  {
   "cell_type": "markdown",
   "metadata": {},
   "source": [
    "There are 2760 houses with 2 bedrooms"
   ]
  },
  {
   "cell_type": "markdown",
   "metadata": {},
   "source": [
    "###Subset the data for house with 2 bedrooms and sqft_living more than 1000"
   ]
  },
  {
   "cell_type": "code",
   "execution_count": 11,
   "metadata": {
    "collapsed": false
   },
   "outputs": [
    {
     "data": {
      "text/html": [
       "<table class=\"data-frame\"><tr><th></th><th>id</th><th>date</th><th>price</th><th>bedrooms</th><th>bathrooms</th><th>sqft_living</th><th>sqft_lot</th><th>floors</th><th>waterfront</th><th>view</th><th>condition</th><th>grade</th><th>sqft_above</th><th>sqft_basement</th><th>yr_built</th><th>yr_renovated</th><th>zipcode</th><th>lat</th><th>long</th><th>sqft_living15</th><th>sqft_lot15</th></tr><tr><th>1</th><td>9212900260</td><td>20140527T000000</td><td>468000</td><td>2</td><td>1.0</td><td>1160</td><td>6000</td><td>1.0</td><td>0</td><td>0</td><td>4</td><td>7</td><td>860</td><td>300</td><td>1942</td><td>0</td><td>98115</td><td>47.69</td><td>-122.292</td><td>1330</td><td>6000</td></tr><tr><th>2</th><td>16000397</td><td>20141205T000000</td><td>189000</td><td>2</td><td>1.0</td><td>1200</td><td>9850</td><td>1.0</td><td>0</td><td>0</td><td>4</td><td>7</td><td>1200</td><td>0</td><td>1921</td><td>0</td><td>98002</td><td>47.3089</td><td>-122.21</td><td>1060</td><td>5095</td></tr><tr><th>3</th><td>8091400200</td><td>20140516T000000</td><td>252700</td><td>2</td><td>1.5</td><td>1070</td><td>9643</td><td>1.0</td><td>0</td><td>0</td><td>3</td><td>7</td><td>1070</td><td>0</td><td>1985</td><td>0</td><td>98030</td><td>47.3533</td><td>-122.166</td><td>1220</td><td>8386</td></tr><tr><th>4</th><td>2426039314</td><td>20141201T000000</td><td>280000</td><td>2</td><td>1.5</td><td>1190</td><td>1265</td><td>3.0</td><td>0</td><td>0</td><td>3</td><td>7</td><td>1190</td><td>0</td><td>2005</td><td>0</td><td>98133</td><td>47.7274</td><td>-122.357</td><td>1390</td><td>1756</td></tr><tr><th>5</th><td>3626039271</td><td>20150205T000000</td><td>585000</td><td>2</td><td>1.75</td><td>1980</td><td>8550</td><td>1.0</td><td>0</td><td>0</td><td>3</td><td>7</td><td>990</td><td>990</td><td>1981</td><td>0</td><td>98117</td><td>47.6989</td><td>-122.369</td><td>1480</td><td>6738</td></tr><tr><th>6</th><td>9418400240</td><td>20141028T000000</td><td>355000</td><td>2</td><td>1.0</td><td>2020</td><td>6720</td><td>1.0</td><td>0</td><td>0</td><td>3</td><td>7</td><td>1010</td><td>1010</td><td>1948</td><td>0</td><td>98118</td><td>47.5474</td><td>-122.291</td><td>1720</td><td>6720</td></tr><tr><th>7</th><td>1332700270</td><td>20140519T000000</td><td>215000</td><td>2</td><td>2.25</td><td>1610</td><td>2040</td><td>2.0</td><td>0</td><td>0</td><td>4</td><td>7</td><td>1610</td><td>0</td><td>1979</td><td>0</td><td>98056</td><td>47.518</td><td>-122.194</td><td>1950</td><td>2025</td></tr><tr><th>8</th><td>3869900162</td><td>20140904T000000</td><td>335000</td><td>2</td><td>1.75</td><td>1030</td><td>1066</td><td>2.0</td><td>0</td><td>0</td><td>3</td><td>7</td><td>765</td><td>265</td><td>2006</td><td>0</td><td>98136</td><td>47.5394</td><td>-122.387</td><td>1030</td><td>1106</td></tr><tr><th>9</th><td>3530510041</td><td>20140723T000000</td><td>188500</td><td>2</td><td>1.75</td><td>1240</td><td>2493</td><td>1.0</td><td>0</td><td>0</td><td>4</td><td>8</td><td>1240</td><td>0</td><td>1985</td><td>0</td><td>98198</td><td>47.3813</td><td>-122.322</td><td>1270</td><td>4966</td></tr><tr><th>10</th><td>3992700335</td><td>20140707T000000</td><td>382500</td><td>2</td><td>1.0</td><td>1190</td><td>4440</td><td>1.0</td><td>0</td><td>0</td><td>3</td><td>6</td><td>1190</td><td>0</td><td>1981</td><td>0</td><td>98125</td><td>47.7135</td><td>-122.287</td><td>1060</td><td>5715</td></tr><tr><th>11</th><td>4232901525</td><td>20140627T000000</td><td>665000</td><td>2</td><td>1.0</td><td>1110</td><td>3200</td><td>1.0</td><td>0</td><td>0</td><td>3</td><td>7</td><td>1110</td><td>0</td><td>1925</td><td>0</td><td>98119</td><td>47.6338</td><td>-122.358</td><td>1170</td><td>3600</td></tr><tr><th>12</th><td>3224079105</td><td>20140806T000000</td><td>430000</td><td>2</td><td>2.5</td><td>2420</td><td>60984</td><td>2.0</td><td>0</td><td>0</td><td>3</td><td>7</td><td>2420</td><td>0</td><td>2007</td><td>0</td><td>98027</td><td>47.5262</td><td>-121.943</td><td>1940</td><td>193842</td></tr><tr><th>13</th><td>2009000370</td><td>20150219T000000</td><td>269950</td><td>2</td><td>1.75</td><td>1340</td><td>7250</td><td>1.0</td><td>0</td><td>0</td><td>5</td><td>5</td><td>700</td><td>640</td><td>1949</td><td>0</td><td>98198</td><td>47.408</td><td>-122.327</td><td>1830</td><td>9750</td></tr><tr><th>14</th><td>9158100075</td><td>20150107T000000</td><td>330000</td><td>2</td><td>1.0</td><td>1350</td><td>8220</td><td>1.0</td><td>0</td><td>0</td><td>3</td><td>7</td><td>1060</td><td>290</td><td>1949</td><td>0</td><td>98177</td><td>47.7224</td><td>-122.358</td><td>1540</td><td>8280</td></tr><tr><th>15</th><td>6661200320</td><td>20140723T000000</td><td>163500</td><td>2</td><td>1.5</td><td>1050</td><td>3419</td><td>2.0</td><td>0</td><td>0</td><td>3</td><td>7</td><td>1050</td><td>0</td><td>1996</td><td>0</td><td>98038</td><td>47.3848</td><td>-122.039</td><td>1050</td><td>3417</td></tr><tr><th>16</th><td>1250202145</td><td>20140828T000000</td><td>1072000</td><td>2</td><td>2.25</td><td>3900</td><td>14864</td><td>1.0</td><td>0</td><td>3</td><td>3</td><td>8</td><td>1950</td><td>1950</td><td>1947</td><td>0</td><td>98144</td><td>47.5884</td><td>-122.291</td><td>2580</td><td>5184</td></tr><tr><th>17</th><td>7611200125</td><td>20141023T000000</td><td>467000</td><td>2</td><td>1.5</td><td>1320</td><td>10800</td><td>1.0</td><td>0</td><td>0</td><td>4</td><td>8</td><td>1320</td><td>0</td><td>1947</td><td>0</td><td>98177</td><td>47.7145</td><td>-122.367</td><td>2120</td><td>12040</td></tr><tr><th>18</th><td>8682281200</td><td>20150309T000000</td><td>479950</td><td>2</td><td>2.0</td><td>1510</td><td>6516</td><td>1.0</td><td>0</td><td>0</td><td>3</td><td>8</td><td>1510</td><td>0</td><td>2005</td><td>0</td><td>98053</td><td>47.7076</td><td>-122.013</td><td>1640</td><td>6009</td></tr><tr><th>19</th><td>8096000060</td><td>20150413T000000</td><td>655000</td><td>2</td><td>1.75</td><td>1450</td><td>15798</td><td>2.0</td><td>1</td><td>4</td><td>3</td><td>7</td><td>1230</td><td>220</td><td>1915</td><td>1978</td><td>98166</td><td>47.4497</td><td>-122.375</td><td>2030</td><td>13193</td></tr><tr><th>20</th><td>943100260</td><td>20141120T000000</td><td>213000</td><td>2</td><td>1.0</td><td>1000</td><td>10200</td><td>1.0</td><td>0</td><td>0</td><td>3</td><td>6</td><td>1000</td><td>0</td><td>1961</td><td>0</td><td>98024</td><td>47.5687</td><td>-121.899</td><td>1150</td><td>13702</td></tr><tr><th>21</th><td>1868901275</td><td>20150127T000000</td><td>455000</td><td>2</td><td>1.0</td><td>1430</td><td>5000</td><td>1.5</td><td>0</td><td>0</td><td>2</td><td>7</td><td>1430</td><td>0</td><td>1925</td><td>0</td><td>98115</td><td>47.6727</td><td>-122.299</td><td>1450</td><td>3750</td></tr><tr><th>22</th><td>9468200125</td><td>20140826T000000</td><td>480000</td><td>2</td><td>1.0</td><td>1030</td><td>3060</td><td>1.0</td><td>0</td><td>2</td><td>4</td><td>7</td><td>790</td><td>240</td><td>1918</td><td>0</td><td>98103</td><td>47.6779</td><td>-122.353</td><td>1390</td><td>3060</td></tr><tr><th>23</th><td>5101404898</td><td>20140519T000000</td><td>592500</td><td>2</td><td>2.0</td><td>1420</td><td>9191</td><td>1.5</td><td>0</td><td>2</td><td>5</td><td>7</td><td>1420</td><td>0</td><td>1928</td><td>0</td><td>98115</td><td>47.6979</td><td>-122.32</td><td>1420</td><td>6816</td></tr><tr><th>24</th><td>7974200510</td><td>20140814T000000</td><td>415000</td><td>2</td><td>1.0</td><td>1070</td><td>4500</td><td>1.0</td><td>0</td><td>0</td><td>3</td><td>7</td><td>1070</td><td>0</td><td>1937</td><td>0</td><td>98115</td><td>47.6802</td><td>-122.29</td><td>1320</td><td>4465</td></tr><tr><th>25</th><td>6378500125</td><td>20150501T000000</td><td>436000</td><td>2</td><td>1.0</td><td>1040</td><td>7538</td><td>1.0</td><td>0</td><td>0</td><td>4</td><td>7</td><td>1040</td><td>0</td><td>1939</td><td>0</td><td>98133</td><td>47.7107</td><td>-122.352</td><td>1440</td><td>7530</td></tr><tr><th>26</th><td>2200500350</td><td>20140812T000000</td><td>500000</td><td>2</td><td>1.0</td><td>1640</td><td>14100</td><td>1.0</td><td>0</td><td>0</td><td>4</td><td>7</td><td>1140</td><td>500</td><td>1954</td><td>0</td><td>98006</td><td>47.5712</td><td>-122.143</td><td>1520</td><td>13527</td></tr><tr><th>27</th><td>7171200445</td><td>20150228T000000</td><td>550700</td><td>2</td><td>1.0</td><td>1010</td><td>5000</td><td>1.5</td><td>0</td><td>0</td><td>4</td><td>6</td><td>1010</td><td>0</td><td>1908</td><td>0</td><td>98105</td><td>47.6692</td><td>-122.297</td><td>1460</td><td>5000</td></tr><tr><th>28</th><td>9521101455</td><td>20140723T000000</td><td>548000</td><td>2</td><td>1.0</td><td>1470</td><td>3864</td><td>1.0</td><td>0</td><td>0</td><td>4</td><td>7</td><td>1170</td><td>300</td><td>1916</td><td>0</td><td>98103</td><td>47.6638</td><td>-122.345</td><td>1570</td><td>3864</td></tr><tr><th>29</th><td>7520000520</td><td>20140905T000000</td><td>232000</td><td>2</td><td>1.0</td><td>1240</td><td>12092</td><td>1.0</td><td>0</td><td>0</td><td>3</td><td>6</td><td>960</td><td>280</td><td>1922</td><td>1984</td><td>98146</td><td>47.4957</td><td>-122.352</td><td>1820</td><td>7460</td></tr><tr><th>30</th><td>7520000520</td><td>20150311T000000</td><td>240500</td><td>2</td><td>1.0</td><td>1240</td><td>12092</td><td>1.0</td><td>0</td><td>0</td><td>3</td><td>6</td><td>960</td><td>280</td><td>1922</td><td>1984</td><td>98146</td><td>47.4957</td><td>-122.352</td><td>1820</td><td>7460</td></tr><tr><th>&vellip;</th><td>&vellip;</td><td>&vellip;</td><td>&vellip;</td><td>&vellip;</td><td>&vellip;</td><td>&vellip;</td><td>&vellip;</td><td>&vellip;</td><td>&vellip;</td><td>&vellip;</td><td>&vellip;</td><td>&vellip;</td><td>&vellip;</td><td>&vellip;</td><td>&vellip;</td><td>&vellip;</td><td>&vellip;</td><td>&vellip;</td><td>&vellip;</td><td>&vellip;</td><td>&vellip;</td></tr></table>"
      ],
      "text/plain": [
       "1824x21 DataFrame\n",
       "| Row  | id         | date              | price   | bedrooms | bathrooms |\n",
       "|------|------------|-------------------|---------|----------|-----------|\n",
       "| 1    | 9212900260 | \"20140527T000000\" | 468000  | 2        | 1.0       |\n",
       "| 2    | 16000397   | \"20141205T000000\" | 189000  | 2        | 1.0       |\n",
       "| 3    | 8091400200 | \"20140516T000000\" | 252700  | 2        | 1.5       |\n",
       "| 4    | 2426039314 | \"20141201T000000\" | 280000  | 2        | 1.5       |\n",
       "| 5    | 3626039271 | \"20150205T000000\" | 585000  | 2        | 1.75      |\n",
       "| 6    | 9418400240 | \"20141028T000000\" | 355000  | 2        | 1.0       |\n",
       "| 7    | 1332700270 | \"20140519T000000\" | 215000  | 2        | 2.25      |\n",
       "| 8    | 3869900162 | \"20140904T000000\" | 335000  | 2        | 1.75      |\n",
       "| 9    | 3530510041 | \"20140723T000000\" | 188500  | 2        | 1.75      |\n",
       "| 10   | 3992700335 | \"20140707T000000\" | 382500  | 2        | 1.0       |\n",
       "| 11   | 4232901525 | \"20140627T000000\" | 665000  | 2        | 1.0       |\n",
       "⋮\n",
       "| 1813 | 148000072  | \"20140818T000000\" | 600000  | 2        | 2.5       |\n",
       "| 1814 | 7625702277 | \"20150331T000000\" | 406000  | 2        | 2.0       |\n",
       "| 1815 | 8562780180 | \"20140612T000000\" | 336750  | 2        | 2.25      |\n",
       "| 1816 | 3277800823 | \"20140820T000000\" | 327000  | 2        | 2.0       |\n",
       "| 1817 | 8835770330 | \"20140819T000000\" | 1057000 | 2        | 1.5       |\n",
       "| 1818 | 476000017  | \"20141003T000000\" | 553000  | 2        | 2.0       |\n",
       "| 1819 | 3438501329 | \"20140520T000000\" | 305000  | 2        | 2.5       |\n",
       "| 1820 | 2767604724 | \"20141015T000000\" | 505000  | 2        | 2.5       |\n",
       "| 1821 | 2767600688 | \"20141113T000000\" | 414500  | 2        | 1.5       |\n",
       "| 1822 | 1972201967 | \"20141031T000000\" | 520000  | 2        | 2.25      |\n",
       "| 1823 | 1523300141 | \"20140623T000000\" | 402101  | 2        | 0.75      |\n",
       "| 1824 | 1523300157 | \"20141015T000000\" | 325000  | 2        | 0.75      |\n",
       "\n",
       "| Row  | sqft_living | sqft_lot | floors | waterfront | view | condition |\n",
       "|------|-------------|----------|--------|------------|------|-----------|\n",
       "| 1    | 1160        | 6000     | 1.0    | 0          | 0    | 4         |\n",
       "| 2    | 1200        | 9850     | 1.0    | 0          | 0    | 4         |\n",
       "| 3    | 1070        | 9643     | 1.0    | 0          | 0    | 3         |\n",
       "| 4    | 1190        | 1265     | 3.0    | 0          | 0    | 3         |\n",
       "| 5    | 1980        | 8550     | 1.0    | 0          | 0    | 3         |\n",
       "| 6    | 2020        | 6720     | 1.0    | 0          | 0    | 3         |\n",
       "| 7    | 1610        | 2040     | 2.0    | 0          | 0    | 4         |\n",
       "| 8    | 1030        | 1066     | 2.0    | 0          | 0    | 3         |\n",
       "| 9    | 1240        | 2493     | 1.0    | 0          | 0    | 4         |\n",
       "| 10   | 1190        | 4440     | 1.0    | 0          | 0    | 3         |\n",
       "| 11   | 1110        | 3200     | 1.0    | 0          | 0    | 3         |\n",
       "⋮\n",
       "| 1813 | 1830        | 1988     | 2.0    | 0          | 0    | 3         |\n",
       "| 1814 | 1110        | 1095     | 3.0    | 0          | 0    | 3         |\n",
       "| 1815 | 1170        | 1011     | 2.0    | 0          | 0    | 3         |\n",
       "| 1816 | 1490        | 1627     | 2.0    | 0          | 0    | 3         |\n",
       "| 1817 | 2370        | 184231   | 2.0    | 0          | 0    | 3         |\n",
       "| 1818 | 1400        | 1512     | 2.0    | 0          | 0    | 3         |\n",
       "| 1819 | 1590        | 2656     | 2.0    | 0          | 0    | 3         |\n",
       "| 1820 | 1430        | 1201     | 3.0    | 0          | 0    | 3         |\n",
       "| 1821 | 1210        | 1278     | 2.0    | 0          | 0    | 3         |\n",
       "| 1822 | 1530        | 981      | 3.0    | 0          | 0    | 3         |\n",
       "| 1823 | 1020        | 1350     | 2.0    | 0          | 0    | 3         |\n",
       "| 1824 | 1020        | 1076     | 2.0    | 0          | 0    | 3         |\n",
       "\n",
       "| Row  | grade | sqft_above | sqft_basement | yr_built | yr_renovated |\n",
       "|------|-------|------------|---------------|----------|--------------|\n",
       "| 1    | 7     | 860        | 300           | 1942     | 0            |\n",
       "| 2    | 7     | 1200       | 0             | 1921     | 0            |\n",
       "| 3    | 7     | 1070       | 0             | 1985     | 0            |\n",
       "| 4    | 7     | 1190       | 0             | 2005     | 0            |\n",
       "| 5    | 7     | 990        | 990           | 1981     | 0            |\n",
       "| 6    | 7     | 1010       | 1010          | 1948     | 0            |\n",
       "| 7    | 7     | 1610       | 0             | 1979     | 0            |\n",
       "| 8    | 7     | 765        | 265           | 2006     | 0            |\n",
       "| 9    | 8     | 1240       | 0             | 1985     | 0            |\n",
       "| 10   | 6     | 1190       | 0             | 1981     | 0            |\n",
       "| 11   | 7     | 1110       | 0             | 1925     | 0            |\n",
       "⋮\n",
       "| 1813 | 9     | 1530       | 300           | 2011     | 0            |\n",
       "| 1814 | 7     | 980        | 130           | 2008     | 0            |\n",
       "| 1815 | 7     | 1170       | 0             | 2009     | 0            |\n",
       "| 1816 | 8     | 1190       | 300           | 2009     | 0            |\n",
       "| 1817 | 11    | 2370       | 0             | 2005     | 0            |\n",
       "| 1818 | 8     | 940        | 460           | 2006     | 0            |\n",
       "| 1819 | 7     | 1220       | 370           | 2009     | 0            |\n",
       "| 1820 | 8     | 1430       | 0             | 2009     | 0            |\n",
       "| 1821 | 8     | 1020       | 190           | 2007     | 0            |\n",
       "| 1822 | 8     | 1480       | 50            | 2006     | 0            |\n",
       "| 1823 | 7     | 1020       | 0             | 2009     | 0            |\n",
       "| 1824 | 7     | 1020       | 0             | 2008     | 0            |\n",
       "\n",
       "| Row  | zipcode | lat     | long     | sqft_living15 | sqft_lot15 |\n",
       "|------|---------|---------|----------|---------------|------------|\n",
       "| 1    | 98115   | 47.69   | -122.292 | 1330          | 6000       |\n",
       "| 2    | 98002   | 47.3089 | -122.21  | 1060          | 5095       |\n",
       "| 3    | 98030   | 47.3533 | -122.166 | 1220          | 8386       |\n",
       "| 4    | 98133   | 47.7274 | -122.357 | 1390          | 1756       |\n",
       "| 5    | 98117   | 47.6989 | -122.369 | 1480          | 6738       |\n",
       "| 6    | 98118   | 47.5474 | -122.291 | 1720          | 6720       |\n",
       "| 7    | 98056   | 47.518  | -122.194 | 1950          | 2025       |\n",
       "| 8    | 98136   | 47.5394 | -122.387 | 1030          | 1106       |\n",
       "| 9    | 98198   | 47.3813 | -122.322 | 1270          | 4966       |\n",
       "| 10   | 98125   | 47.7135 | -122.287 | 1060          | 5715       |\n",
       "| 11   | 98119   | 47.6338 | -122.358 | 1170          | 3600       |\n",
       "⋮\n",
       "| 1813 | 98116   | 47.5779 | -122.409 | 1800          | 2467       |\n",
       "| 1814 | 98136   | 47.5494 | -122.388 | 1110          | 1083       |\n",
       "| 1815 | 98027   | 47.5321 | -122.073 | 1240          | 750        |\n",
       "| 1816 | 98126   | 47.5455 | -122.375 | 1400          | 1498       |\n",
       "| 1817 | 98045   | 47.4543 | -121.778 | 3860          | 151081     |\n",
       "| 1818 | 98107   | 47.6719 | -122.392 | 1400          | 3500       |\n",
       "| 1819 | 98106   | 47.5489 | -122.364 | 1590          | 2306       |\n",
       "| 1820 | 98107   | 47.6707 | -122.381 | 1430          | 1249       |\n",
       "| 1821 | 98117   | 47.6756 | -122.375 | 1210          | 1118       |\n",
       "| 1822 | 98103   | 47.6533 | -122.346 | 1530          | 1282       |\n",
       "| 1823 | 98144   | 47.5944 | -122.299 | 1020          | 2007       |\n",
       "| 1824 | 98144   | 47.5941 | -122.299 | 1020          | 1357       |"
      ]
     },
     "execution_count": 11,
     "metadata": {},
     "output_type": "execute_result"
    }
   ],
   "source": [
    "twoBedrooms_1000_sqft = df[(df[:bedrooms].== 2).*(df[:sqft_living] .>= 1000),:]"
   ]
  },
  {
   "cell_type": "code",
   "execution_count": 12,
   "metadata": {
    "collapsed": false
   },
   "outputs": [
    {
     "data": {
      "text/plain": [
       "(1824,21)"
      ]
     },
     "execution_count": 12,
     "metadata": {},
     "output_type": "execute_result"
    }
   ],
   "source": [
    "size(twoBedrooms_1000_sqft)"
   ]
  },
  {
   "cell_type": "markdown",
   "metadata": {},
   "source": [
    "There are 1824 houses with 2 bedrooms with sqft_living more than 1000 sqft"
   ]
  },
  {
   "cell_type": "markdown",
   "metadata": {},
   "source": [
    "### Sort the dataset according to the increasing order of price "
   ]
  },
  {
   "cell_type": "code",
   "execution_count": 13,
   "metadata": {
    "collapsed": false
   },
   "outputs": [
    {
     "data": {
      "text/html": [
       "<table class=\"data-frame\"><tr><th></th><th>id</th><th>date</th><th>price</th><th>bedrooms</th><th>bathrooms</th><th>sqft_living</th><th>sqft_lot</th><th>floors</th><th>waterfront</th><th>view</th><th>condition</th><th>grade</th><th>sqft_above</th><th>sqft_basement</th><th>yr_built</th><th>yr_renovated</th><th>zipcode</th><th>lat</th><th>long</th><th>sqft_living15</th><th>sqft_lot15</th></tr><tr><th>1</th><td>3421079032</td><td>20150217T000000</td><td>75000</td><td>1</td><td>0.0</td><td>670</td><td>43377</td><td>1.0</td><td>0</td><td>0</td><td>3</td><td>3</td><td>670</td><td>0</td><td>1966</td><td>0</td><td>98022</td><td>47.2638</td><td>-121.906</td><td>1160</td><td>42882</td></tr><tr><th>2</th><td>40000362</td><td>20140506T000000</td><td>78000</td><td>2</td><td>1.0</td><td>780</td><td>16344</td><td>1.0</td><td>0</td><td>0</td><td>1</td><td>5</td><td>780</td><td>0</td><td>1942</td><td>0</td><td>98168</td><td>47.4739</td><td>-122.28</td><td>1700</td><td>10387</td></tr><tr><th>3</th><td>8658300340</td><td>20140523T000000</td><td>80000</td><td>1</td><td>0.75</td><td>430</td><td>5050</td><td>1.0</td><td>0</td><td>0</td><td>2</td><td>4</td><td>430</td><td>0</td><td>1912</td><td>0</td><td>98014</td><td>47.6499</td><td>-121.909</td><td>1200</td><td>7500</td></tr><tr><th>4</th><td>3028200080</td><td>20150324T000000</td><td>81000</td><td>2</td><td>1.0</td><td>730</td><td>9975</td><td>1.0</td><td>0</td><td>0</td><td>1</td><td>5</td><td>730</td><td>0</td><td>1943</td><td>0</td><td>98168</td><td>47.4808</td><td>-122.315</td><td>860</td><td>9000</td></tr><tr><th>5</th><td>3883800011</td><td>20141105T000000</td><td>82000</td><td>3</td><td>1.0</td><td>860</td><td>10426</td><td>1.0</td><td>0</td><td>0</td><td>3</td><td>6</td><td>860</td><td>0</td><td>1954</td><td>0</td><td>98146</td><td>47.4987</td><td>-122.341</td><td>1140</td><td>11250</td></tr><tr><th>6</th><td>1623049041</td><td>20140508T000000</td><td>82500</td><td>2</td><td>1.0</td><td>520</td><td>22334</td><td>1.0</td><td>0</td><td>0</td><td>2</td><td>5</td><td>520</td><td>0</td><td>1951</td><td>0</td><td>98168</td><td>47.4799</td><td>-122.296</td><td>1572</td><td>10570</td></tr><tr><th>7</th><td>7999600180</td><td>20140529T000000</td><td>83000</td><td>2</td><td>1.0</td><td>900</td><td>8580</td><td>1.0</td><td>0</td><td>0</td><td>3</td><td>5</td><td>900</td><td>0</td><td>1918</td><td>0</td><td>98168</td><td>47.4727</td><td>-122.27</td><td>2060</td><td>6533</td></tr><tr><th>8</th><td>1523049188</td><td>20150430T000000</td><td>84000</td><td>2</td><td>1.0</td><td>700</td><td>20130</td><td>1.0</td><td>0</td><td>0</td><td>3</td><td>6</td><td>700</td><td>0</td><td>1949</td><td>0</td><td>98168</td><td>47.4752</td><td>-122.271</td><td>1490</td><td>18630</td></tr><tr><th>9</th><td>2422049104</td><td>20140915T000000</td><td>85000</td><td>2</td><td>1.0</td><td>830</td><td>9000</td><td>1.0</td><td>0</td><td>0</td><td>3</td><td>6</td><td>830</td><td>0</td><td>1939</td><td>0</td><td>98032</td><td>47.3813</td><td>-122.243</td><td>1160</td><td>7680</td></tr><tr><th>10</th><td>1322049150</td><td>20150305T000000</td><td>85000</td><td>2</td><td>1.0</td><td>910</td><td>9753</td><td>1.0</td><td>0</td><td>0</td><td>3</td><td>5</td><td>910</td><td>0</td><td>1947</td><td>0</td><td>98032</td><td>47.3897</td><td>-122.236</td><td>1160</td><td>7405</td></tr><tr><th>11</th><td>1788900230</td><td>20140722T000000</td><td>86500</td><td>3</td><td>1.0</td><td>840</td><td>9480</td><td>1.0</td><td>0</td><td>0</td><td>3</td><td>6</td><td>840</td><td>0</td><td>1960</td><td>0</td><td>98023</td><td>47.3277</td><td>-122.341</td><td>840</td><td>9420</td></tr><tr><th>12</th><td>9320900420</td><td>20141014T000000</td><td>89000</td><td>3</td><td>1.0</td><td>900</td><td>4750</td><td>1.0</td><td>0</td><td>0</td><td>4</td><td>6</td><td>900</td><td>0</td><td>1969</td><td>0</td><td>98023</td><td>47.3026</td><td>-122.363</td><td>900</td><td>3404</td></tr><tr><th>13</th><td>1721801591</td><td>20150219T000000</td><td>89950</td><td>1</td><td>1.0</td><td>570</td><td>4080</td><td>1.0</td><td>0</td><td>0</td><td>3</td><td>5</td><td>570</td><td>0</td><td>1942</td><td>0</td><td>98146</td><td>47.5098</td><td>-122.334</td><td>890</td><td>5100</td></tr><tr><th>14</th><td>2734100835</td><td>20150303T000000</td><td>90000</td><td>1</td><td>1.0</td><td>780</td><td>4000</td><td>1.0</td><td>0</td><td>0</td><td>3</td><td>5</td><td>780</td><td>0</td><td>1905</td><td>0</td><td>98108</td><td>47.5424</td><td>-122.321</td><td>1150</td><td>4000</td></tr><tr><th>15</th><td>1049010620</td><td>20140513T000000</td><td>90000</td><td>2</td><td>1.0</td><td>790</td><td>2640</td><td>1.0</td><td>0</td><td>0</td><td>3</td><td>7</td><td>790</td><td>0</td><td>1973</td><td>0</td><td>98034</td><td>47.7351</td><td>-122.178</td><td>1310</td><td>2064</td></tr><tr><th>16</th><td>2114700500</td><td>20150418T000000</td><td>90000</td><td>1</td><td>1.0</td><td>560</td><td>4120</td><td>1.0</td><td>0</td><td>0</td><td>3</td><td>4</td><td>560</td><td>0</td><td>1947</td><td>0</td><td>98106</td><td>47.5335</td><td>-122.348</td><td>980</td><td>4120</td></tr><tr><th>17</th><td>1423049019</td><td>20140523T000000</td><td>90000</td><td>2</td><td>1.0</td><td>580</td><td>7500</td><td>1.0</td><td>0</td><td>0</td><td>3</td><td>5</td><td>580</td><td>0</td><td>1943</td><td>0</td><td>98178</td><td>47.4852</td><td>-122.251</td><td>1700</td><td>11250</td></tr><tr><th>18</th><td>4239400300</td><td>20141129T000000</td><td>90000</td><td>3</td><td>1.0</td><td>980</td><td>2490</td><td>2.0</td><td>0</td><td>0</td><td>4</td><td>6</td><td>980</td><td>0</td><td>1969</td><td>0</td><td>98092</td><td>47.317</td><td>-122.182</td><td>980</td><td>3154</td></tr><tr><th>19</th><td>795000765</td><td>20140616T000000</td><td>92000</td><td>2</td><td>1.0</td><td>760</td><td>5500</td><td>1.5</td><td>0</td><td>0</td><td>3</td><td>5</td><td>760</td><td>0</td><td>1947</td><td>0</td><td>98168</td><td>47.5045</td><td>-122.329</td><td>1040</td><td>5515</td></tr><tr><th>20</th><td>2724200705</td><td>20141212T000000</td><td>95000</td><td>2</td><td>1.0</td><td>800</td><td>8550</td><td>1.0</td><td>0</td><td>0</td><td>3</td><td>7</td><td>800</td><td>0</td><td>1947</td><td>0</td><td>98198</td><td>47.4075</td><td>-122.294</td><td>1490</td><td>8550</td></tr><tr><th>21</th><td>7335400215</td><td>20150505T000000</td><td>95000</td><td>1</td><td>0.75</td><td>760</td><td>5746</td><td>1.0</td><td>0</td><td>0</td><td>4</td><td>5</td><td>760</td><td>0</td><td>1915</td><td>0</td><td>98002</td><td>47.3046</td><td>-122.215</td><td>970</td><td>6696</td></tr><tr><th>22</th><td>6198400218</td><td>20140919T000000</td><td>95000</td><td>2</td><td>1.0</td><td>1070</td><td>20450</td><td>1.0</td><td>0</td><td>0</td><td>2</td><td>6</td><td>1070</td><td>0</td><td>1948</td><td>0</td><td>98058</td><td>47.4338</td><td>-122.183</td><td>1360</td><td>15581</td></tr><tr><th>23</th><td>6929602721</td><td>20150408T000000</td><td>95000</td><td>2</td><td>1.0</td><td>960</td><td>7000</td><td>1.0</td><td>0</td><td>0</td><td>3</td><td>4</td><td>960</td><td>0</td><td>1918</td><td>0</td><td>98198</td><td>47.3864</td><td>-122.307</td><td>1850</td><td>8120</td></tr><tr><th>24</th><td>1788800630</td><td>20141029T000000</td><td>96500</td><td>3</td><td>1.0</td><td>840</td><td>12091</td><td>1.0</td><td>0</td><td>0</td><td>3</td><td>6</td><td>840</td><td>0</td><td>1959</td><td>0</td><td>98023</td><td>47.3281</td><td>-122.343</td><td>840</td><td>9324</td></tr><tr><th>25</th><td>5128000010</td><td>20150105T000000</td><td>99000</td><td>2</td><td>1.0</td><td>960</td><td>8236</td><td>1.0</td><td>0</td><td>0</td><td>2</td><td>6</td><td>960</td><td>0</td><td>1948</td><td>0</td><td>98058</td><td>47.4698</td><td>-122.166</td><td>1260</td><td>8236</td></tr><tr><th>26</th><td>3751600030</td><td>20140717T000000</td><td>100000</td><td>2</td><td>1.0</td><td>770</td><td>17334</td><td>1.0</td><td>0</td><td>0</td><td>3</td><td>7</td><td>770</td><td>0</td><td>1978</td><td>0</td><td>98001</td><td>47.2997</td><td>-122.269</td><td>1480</td><td>17334</td></tr><tr><th>27</th><td>7813200115</td><td>20140904T000000</td><td>100000</td><td>2</td><td>1.0</td><td>790</td><td>6426</td><td>1.0</td><td>0</td><td>0</td><td>3</td><td>6</td><td>790</td><td>0</td><td>1944</td><td>0</td><td>98178</td><td>47.4933</td><td>-122.245</td><td>1380</td><td>6946</td></tr><tr><th>28</th><td>1900000195</td><td>20140630T000000</td><td>100000</td><td>2</td><td>1.0</td><td>930</td><td>7623</td><td>1.0</td><td>0</td><td>0</td><td>2</td><td>6</td><td>930</td><td>0</td><td>1942</td><td>0</td><td>98166</td><td>47.467</td><td>-122.349</td><td>1300</td><td>7641</td></tr><tr><th>29</th><td>7224000980</td><td>20140610T000000</td><td>100000</td><td>4</td><td>1.0</td><td>1120</td><td>2685</td><td>1.0</td><td>0</td><td>0</td><td>3</td><td>5</td><td>860</td><td>260</td><td>1939</td><td>0</td><td>98055</td><td>47.4904</td><td>-122.203</td><td>1120</td><td>4838</td></tr><tr><th>30</th><td>8856000545</td><td>20140507T000000</td><td>100000</td><td>2</td><td>1.0</td><td>910</td><td>22000</td><td>1.0</td><td>0</td><td>0</td><td>3</td><td>6</td><td>910</td><td>0</td><td>1956</td><td>0</td><td>98001</td><td>47.2777</td><td>-122.252</td><td>1326</td><td>9891</td></tr><tr><th>&vellip;</th><td>&vellip;</td><td>&vellip;</td><td>&vellip;</td><td>&vellip;</td><td>&vellip;</td><td>&vellip;</td><td>&vellip;</td><td>&vellip;</td><td>&vellip;</td><td>&vellip;</td><td>&vellip;</td><td>&vellip;</td><td>&vellip;</td><td>&vellip;</td><td>&vellip;</td><td>&vellip;</td><td>&vellip;</td><td>&vellip;</td><td>&vellip;</td><td>&vellip;</td><td>&vellip;</td></tr></table>"
      ],
      "text/plain": [
       "21613x21 DataFrame\n",
       "| Row   | id         | date              | price   | bedrooms | bathrooms |\n",
       "|-------|------------|-------------------|---------|----------|-----------|\n",
       "| 1     | 3421079032 | \"20150217T000000\" | 75000   | 1        | 0.0       |\n",
       "| 2     | 40000362   | \"20140506T000000\" | 78000   | 2        | 1.0       |\n",
       "| 3     | 8658300340 | \"20140523T000000\" | 80000   | 1        | 0.75      |\n",
       "| 4     | 3028200080 | \"20150324T000000\" | 81000   | 2        | 1.0       |\n",
       "| 5     | 3883800011 | \"20141105T000000\" | 82000   | 3        | 1.0       |\n",
       "| 6     | 1623049041 | \"20140508T000000\" | 82500   | 2        | 1.0       |\n",
       "| 7     | 7999600180 | \"20140529T000000\" | 83000   | 2        | 1.0       |\n",
       "| 8     | 1523049188 | \"20150430T000000\" | 84000   | 2        | 1.0       |\n",
       "| 9     | 2422049104 | \"20140915T000000\" | 85000   | 2        | 1.0       |\n",
       "| 10    | 1322049150 | \"20150305T000000\" | 85000   | 2        | 1.0       |\n",
       "| 11    | 1788900230 | \"20140722T000000\" | 86500   | 3        | 1.0       |\n",
       "⋮\n",
       "| 21602 | 6447300265 | \"20141014T000000\" | 4000000 | 4        | 5.5       |\n",
       "| 21603 | 6065300370 | \"20150506T000000\" | 4208000 | 5        | 6.0       |\n",
       "| 21604 | 3835500195 | \"20140618T000000\" | 4489000 | 4        | 3.0       |\n",
       "| 21605 | 7738500731 | \"20140815T000000\" | 4500000 | 5        | 5.5       |\n",
       "| 21606 | 1924059029 | \"20140617T000000\" | 4668000 | 5        | 6.75      |\n",
       "| 21607 | 1247600105 | \"20141020T000000\" | 5110800 | 5        | 5.25      |\n",
       "| 21608 | 7558700030 | \"20150413T000000\" | 5300000 | 6        | 6.0       |\n",
       "| 21609 | 8907500070 | \"20150413T000000\" | 5350000 | 5        | 5.0       |\n",
       "| 21610 | 2470100110 | \"20140804T000000\" | 5570000 | 5        | 5.75      |\n",
       "| 21611 | 9208900037 | \"20140919T000000\" | 6885000 | 6        | 7.75      |\n",
       "| 21612 | 9808700762 | \"20140611T000000\" | 7062500 | 5        | 4.5       |\n",
       "| 21613 | 6762700020 | \"20141013T000000\" | 7700000 | 6        | 8.0       |\n",
       "\n",
       "| Row   | sqft_living | sqft_lot | floors | waterfront | view | condition |\n",
       "|-------|-------------|----------|--------|------------|------|-----------|\n",
       "| 1     | 670         | 43377    | 1.0    | 0          | 0    | 3         |\n",
       "| 2     | 780         | 16344    | 1.0    | 0          | 0    | 1         |\n",
       "| 3     | 430         | 5050     | 1.0    | 0          | 0    | 2         |\n",
       "| 4     | 730         | 9975     | 1.0    | 0          | 0    | 1         |\n",
       "| 5     | 860         | 10426    | 1.0    | 0          | 0    | 3         |\n",
       "| 6     | 520         | 22334    | 1.0    | 0          | 0    | 2         |\n",
       "| 7     | 900         | 8580     | 1.0    | 0          | 0    | 3         |\n",
       "| 8     | 700         | 20130    | 1.0    | 0          | 0    | 3         |\n",
       "| 9     | 830         | 9000     | 1.0    | 0          | 0    | 3         |\n",
       "| 10    | 910         | 9753     | 1.0    | 0          | 0    | 3         |\n",
       "| 11    | 840         | 9480     | 1.0    | 0          | 0    | 3         |\n",
       "⋮\n",
       "| 21602 | 7080        | 16573    | 2.0    | 0          | 0    | 3         |\n",
       "| 21603 | 7440        | 21540    | 2.0    | 0          | 0    | 3         |\n",
       "| 21604 | 6430        | 27517    | 2.0    | 0          | 0    | 3         |\n",
       "| 21605 | 6640        | 40014    | 2.0    | 1          | 4    | 3         |\n",
       "| 21606 | 9640        | 13068    | 1.0    | 1          | 4    | 3         |\n",
       "| 21607 | 8010        | 45517    | 2.0    | 1          | 4    | 3         |\n",
       "| 21608 | 7390        | 24829    | 2.0    | 1          | 4    | 4         |\n",
       "| 21609 | 8000        | 23985    | 2.0    | 0          | 4    | 3         |\n",
       "| 21610 | 9200        | 35069    | 2.0    | 0          | 0    | 3         |\n",
       "| 21611 | 9890        | 31374    | 2.0    | 0          | 4    | 3         |\n",
       "| 21612 | 10040       | 37325    | 2.0    | 1          | 2    | 3         |\n",
       "| 21613 | 12050       | 27600    | 2.5    | 0          | 3    | 4         |\n",
       "\n",
       "| Row   | grade | sqft_above | sqft_basement | yr_built | yr_renovated |\n",
       "|-------|-------|------------|---------------|----------|--------------|\n",
       "| 1     | 3     | 670        | 0             | 1966     | 0            |\n",
       "| 2     | 5     | 780        | 0             | 1942     | 0            |\n",
       "| 3     | 4     | 430        | 0             | 1912     | 0            |\n",
       "| 4     | 5     | 730        | 0             | 1943     | 0            |\n",
       "| 5     | 6     | 860        | 0             | 1954     | 0            |\n",
       "| 6     | 5     | 520        | 0             | 1951     | 0            |\n",
       "| 7     | 5     | 900        | 0             | 1918     | 0            |\n",
       "| 8     | 6     | 700        | 0             | 1949     | 0            |\n",
       "| 9     | 6     | 830        | 0             | 1939     | 0            |\n",
       "| 10    | 5     | 910        | 0             | 1947     | 0            |\n",
       "| 11    | 6     | 840        | 0             | 1960     | 0            |\n",
       "⋮\n",
       "| 21602 | 12    | 5760       | 1320          | 2008     | 0            |\n",
       "| 21603 | 12    | 5550       | 1890          | 2003     | 0            |\n",
       "| 21604 | 12    | 6430       | 0             | 2001     | 0            |\n",
       "| 21605 | 12    | 6350       | 290           | 2004     | 0            |\n",
       "| 21606 | 12    | 4820       | 4820          | 1983     | 2009         |\n",
       "| 21607 | 12    | 5990       | 2020          | 1999     | 0            |\n",
       "| 21608 | 12    | 5000       | 2390          | 1991     | 0            |\n",
       "| 21609 | 12    | 6720       | 1280          | 2009     | 0            |\n",
       "| 21610 | 13    | 6200       | 3000          | 2001     | 0            |\n",
       "| 21611 | 13    | 8860       | 1030          | 2001     | 0            |\n",
       "| 21612 | 11    | 7680       | 2360          | 1940     | 2001         |\n",
       "| 21613 | 13    | 8570       | 3480          | 1910     | 1987         |\n",
       "\n",
       "| Row   | zipcode | lat     | long     | sqft_living15 | sqft_lot15 |\n",
       "|-------|---------|---------|----------|---------------|------------|\n",
       "| 1     | 98022   | 47.2638 | -121.906 | 1160          | 42882      |\n",
       "| 2     | 98168   | 47.4739 | -122.28  | 1700          | 10387      |\n",
       "| 3     | 98014   | 47.6499 | -121.909 | 1200          | 7500       |\n",
       "| 4     | 98168   | 47.4808 | -122.315 | 860           | 9000       |\n",
       "| 5     | 98146   | 47.4987 | -122.341 | 1140          | 11250      |\n",
       "| 6     | 98168   | 47.4799 | -122.296 | 1572          | 10570      |\n",
       "| 7     | 98168   | 47.4727 | -122.27  | 2060          | 6533       |\n",
       "| 8     | 98168   | 47.4752 | -122.271 | 1490          | 18630      |\n",
       "| 9     | 98032   | 47.3813 | -122.243 | 1160          | 7680       |\n",
       "| 10    | 98032   | 47.3897 | -122.236 | 1160          | 7405       |\n",
       "| 11    | 98023   | 47.3277 | -122.341 | 840           | 9420       |\n",
       "⋮\n",
       "| 21602 | 98039   | 47.6151 | -122.224 | 3140          | 15996      |\n",
       "| 21603 | 98006   | 47.5692 | -122.189 | 4740          | 19329      |\n",
       "| 21604 | 98004   | 47.6208 | -122.219 | 3720          | 14592      |\n",
       "| 21605 | 98155   | 47.7493 | -122.28  | 3030          | 23408      |\n",
       "| 21606 | 98040   | 47.557  | -122.21  | 3270          | 10454      |\n",
       "| 21607 | 98033   | 47.6767 | -122.211 | 3430          | 26788      |\n",
       "| 21608 | 98040   | 47.5631 | -122.21  | 4320          | 24619      |\n",
       "| 21609 | 98004   | 47.6232 | -122.22  | 4600          | 21750      |\n",
       "| 21610 | 98039   | 47.6289 | -122.233 | 3560          | 24345      |\n",
       "| 21611 | 98039   | 47.6305 | -122.24  | 4540          | 42730      |\n",
       "| 21612 | 98004   | 47.65   | -122.214 | 3930          | 25449      |\n",
       "| 21613 | 98102   | 47.6298 | -122.323 | 3940          | 8800       |"
      ]
     },
     "execution_count": 13,
     "metadata": {},
     "output_type": "execute_result"
    }
   ],
   "source": [
    "sorted_data = sort(df,cols = :price)"
   ]
  },
  {
   "cell_type": "markdown",
   "metadata": {},
   "source": [
    "### Order the dataset in decreasing order of house prices"
   ]
  },
  {
   "cell_type": "code",
   "execution_count": 14,
   "metadata": {
    "collapsed": false
   },
   "outputs": [
    {
     "data": {
      "text/html": [
       "<table class=\"data-frame\"><tr><th></th><th>id</th><th>date</th><th>price</th><th>bedrooms</th><th>bathrooms</th><th>sqft_living</th><th>sqft_lot</th><th>floors</th><th>waterfront</th><th>view</th><th>condition</th><th>grade</th><th>sqft_above</th><th>sqft_basement</th><th>yr_built</th><th>yr_renovated</th><th>zipcode</th><th>lat</th><th>long</th><th>sqft_living15</th><th>sqft_lot15</th></tr><tr><th>1</th><td>6762700020</td><td>20141013T000000</td><td>7700000</td><td>6</td><td>8.0</td><td>12050</td><td>27600</td><td>2.5</td><td>0</td><td>3</td><td>4</td><td>13</td><td>8570</td><td>3480</td><td>1910</td><td>1987</td><td>98102</td><td>47.6298</td><td>-122.323</td><td>3940</td><td>8800</td></tr><tr><th>2</th><td>9808700762</td><td>20140611T000000</td><td>7062500</td><td>5</td><td>4.5</td><td>10040</td><td>37325</td><td>2.0</td><td>1</td><td>2</td><td>3</td><td>11</td><td>7680</td><td>2360</td><td>1940</td><td>2001</td><td>98004</td><td>47.65</td><td>-122.214</td><td>3930</td><td>25449</td></tr><tr><th>3</th><td>9208900037</td><td>20140919T000000</td><td>6885000</td><td>6</td><td>7.75</td><td>9890</td><td>31374</td><td>2.0</td><td>0</td><td>4</td><td>3</td><td>13</td><td>8860</td><td>1030</td><td>2001</td><td>0</td><td>98039</td><td>47.6305</td><td>-122.24</td><td>4540</td><td>42730</td></tr><tr><th>4</th><td>2470100110</td><td>20140804T000000</td><td>5570000</td><td>5</td><td>5.75</td><td>9200</td><td>35069</td><td>2.0</td><td>0</td><td>0</td><td>3</td><td>13</td><td>6200</td><td>3000</td><td>2001</td><td>0</td><td>98039</td><td>47.6289</td><td>-122.233</td><td>3560</td><td>24345</td></tr><tr><th>5</th><td>8907500070</td><td>20150413T000000</td><td>5350000</td><td>5</td><td>5.0</td><td>8000</td><td>23985</td><td>2.0</td><td>0</td><td>4</td><td>3</td><td>12</td><td>6720</td><td>1280</td><td>2009</td><td>0</td><td>98004</td><td>47.6232</td><td>-122.22</td><td>4600</td><td>21750</td></tr><tr><th>6</th><td>7558700030</td><td>20150413T000000</td><td>5300000</td><td>6</td><td>6.0</td><td>7390</td><td>24829</td><td>2.0</td><td>1</td><td>4</td><td>4</td><td>12</td><td>5000</td><td>2390</td><td>1991</td><td>0</td><td>98040</td><td>47.5631</td><td>-122.21</td><td>4320</td><td>24619</td></tr><tr><th>7</th><td>1247600105</td><td>20141020T000000</td><td>5110800</td><td>5</td><td>5.25</td><td>8010</td><td>45517</td><td>2.0</td><td>1</td><td>4</td><td>3</td><td>12</td><td>5990</td><td>2020</td><td>1999</td><td>0</td><td>98033</td><td>47.6767</td><td>-122.211</td><td>3430</td><td>26788</td></tr><tr><th>8</th><td>1924059029</td><td>20140617T000000</td><td>4668000</td><td>5</td><td>6.75</td><td>9640</td><td>13068</td><td>1.0</td><td>1</td><td>4</td><td>3</td><td>12</td><td>4820</td><td>4820</td><td>1983</td><td>2009</td><td>98040</td><td>47.557</td><td>-122.21</td><td>3270</td><td>10454</td></tr><tr><th>9</th><td>7738500731</td><td>20140815T000000</td><td>4500000</td><td>5</td><td>5.5</td><td>6640</td><td>40014</td><td>2.0</td><td>1</td><td>4</td><td>3</td><td>12</td><td>6350</td><td>290</td><td>2004</td><td>0</td><td>98155</td><td>47.7493</td><td>-122.28</td><td>3030</td><td>23408</td></tr><tr><th>10</th><td>3835500195</td><td>20140618T000000</td><td>4489000</td><td>4</td><td>3.0</td><td>6430</td><td>27517</td><td>2.0</td><td>0</td><td>0</td><td>3</td><td>12</td><td>6430</td><td>0</td><td>2001</td><td>0</td><td>98004</td><td>47.6208</td><td>-122.219</td><td>3720</td><td>14592</td></tr><tr><th>11</th><td>6065300370</td><td>20150506T000000</td><td>4208000</td><td>5</td><td>6.0</td><td>7440</td><td>21540</td><td>2.0</td><td>0</td><td>0</td><td>3</td><td>12</td><td>5550</td><td>1890</td><td>2003</td><td>0</td><td>98006</td><td>47.5692</td><td>-122.189</td><td>4740</td><td>19329</td></tr><tr><th>12</th><td>6447300265</td><td>20141014T000000</td><td>4000000</td><td>4</td><td>5.5</td><td>7080</td><td>16573</td><td>2.0</td><td>0</td><td>0</td><td>3</td><td>12</td><td>5760</td><td>1320</td><td>2008</td><td>0</td><td>98039</td><td>47.6151</td><td>-122.224</td><td>3140</td><td>15996</td></tr><tr><th>13</th><td>8106100105</td><td>20141114T000000</td><td>3850000</td><td>4</td><td>4.25</td><td>5770</td><td>21300</td><td>2.0</td><td>1</td><td>4</td><td>4</td><td>11</td><td>5770</td><td>0</td><td>1980</td><td>0</td><td>98040</td><td>47.585</td><td>-122.222</td><td>4620</td><td>22748</td></tr><tr><th>14</th><td>853200010</td><td>20140701T000000</td><td>3800000</td><td>5</td><td>5.5</td><td>7050</td><td>42840</td><td>1.0</td><td>0</td><td>2</td><td>4</td><td>13</td><td>4320</td><td>2730</td><td>1978</td><td>0</td><td>98004</td><td>47.6229</td><td>-122.22</td><td>5070</td><td>20570</td></tr><tr><th>15</th><td>2303900100</td><td>20140911T000000</td><td>3800000</td><td>3</td><td>4.25</td><td>5510</td><td>35000</td><td>2.0</td><td>0</td><td>4</td><td>3</td><td>13</td><td>4910</td><td>600</td><td>1997</td><td>0</td><td>98177</td><td>47.7296</td><td>-122.37</td><td>3430</td><td>45302</td></tr><tr><th>16</th><td>7397300170</td><td>20140530T000000</td><td>3710000</td><td>4</td><td>3.5</td><td>5550</td><td>28078</td><td>2.0</td><td>0</td><td>2</td><td>4</td><td>12</td><td>3350</td><td>2200</td><td>2000</td><td>0</td><td>98039</td><td>47.6395</td><td>-122.234</td><td>2980</td><td>19602</td></tr><tr><th>17</th><td>4217402115</td><td>20150421T000000</td><td>3650000</td><td>6</td><td>4.75</td><td>5480</td><td>19401</td><td>1.5</td><td>1</td><td>4</td><td>5</td><td>11</td><td>3910</td><td>1570</td><td>1936</td><td>0</td><td>98105</td><td>47.6515</td><td>-122.277</td><td>3510</td><td>15810</td></tr><tr><th>18</th><td>4389201095</td><td>20150511T000000</td><td>3650000</td><td>5</td><td>3.75</td><td>5020</td><td>8694</td><td>2.0</td><td>0</td><td>1</td><td>3</td><td>12</td><td>3970</td><td>1050</td><td>2007</td><td>0</td><td>98004</td><td>47.6146</td><td>-122.213</td><td>4190</td><td>11275</td></tr><tr><th>19</th><td>2425049063</td><td>20140911T000000</td><td>3640900</td><td>4</td><td>3.25</td><td>4830</td><td>22257</td><td>2.0</td><td>1</td><td>4</td><td>4</td><td>11</td><td>4830</td><td>0</td><td>1990</td><td>0</td><td>98039</td><td>47.6409</td><td>-122.241</td><td>3820</td><td>25582</td></tr><tr><th>20</th><td>3625049042</td><td>20141011T000000</td><td>3635000</td><td>5</td><td>6.0</td><td>5490</td><td>19897</td><td>2.0</td><td>0</td><td>0</td><td>3</td><td>12</td><td>5490</td><td>0</td><td>2005</td><td>0</td><td>98039</td><td>47.6165</td><td>-122.236</td><td>2910</td><td>17600</td></tr><tr><th>21</th><td>4114601570</td><td>20141118T000000</td><td>3600000</td><td>3</td><td>3.25</td><td>5020</td><td>12431</td><td>2.0</td><td>1</td><td>4</td><td>3</td><td>10</td><td>3420</td><td>1600</td><td>1941</td><td>2002</td><td>98144</td><td>47.5925</td><td>-122.287</td><td>3680</td><td>12620</td></tr><tr><th>22</th><td>9253900271</td><td>20150107T000000</td><td>3567000</td><td>5</td><td>4.5</td><td>4850</td><td>10584</td><td>2.0</td><td>1</td><td>4</td><td>3</td><td>10</td><td>3540</td><td>1310</td><td>2007</td><td>0</td><td>98008</td><td>47.5943</td><td>-122.11</td><td>3470</td><td>18270</td></tr><tr><th>23</th><td>2525049148</td><td>20141007T000000</td><td>3418800</td><td>5</td><td>5.0</td><td>5450</td><td>20412</td><td>2.0</td><td>0</td><td>0</td><td>3</td><td>11</td><td>5450</td><td>0</td><td>2014</td><td>0</td><td>98039</td><td>47.6209</td><td>-122.237</td><td>3160</td><td>17825</td></tr><tr><th>24</th><td>9362000040</td><td>20140623T000000</td><td>3400000</td><td>3</td><td>4.5</td><td>5230</td><td>17826</td><td>2.0</td><td>1</td><td>4</td><td>3</td><td>10</td><td>3740</td><td>1490</td><td>2005</td><td>0</td><td>98040</td><td>47.5348</td><td>-122.243</td><td>3670</td><td>17826</td></tr><tr><th>25</th><td>1118000320</td><td>20150508T000000</td><td>3400000</td><td>4</td><td>4.0</td><td>4260</td><td>11765</td><td>2.0</td><td>0</td><td>0</td><td>3</td><td>11</td><td>3280</td><td>980</td><td>1939</td><td>2010</td><td>98112</td><td>47.638</td><td>-122.288</td><td>4260</td><td>10408</td></tr><tr><th>26</th><td>3126059023</td><td>20150303T000000</td><td>3395000</td><td>4</td><td>3.5</td><td>4730</td><td>47870</td><td>1.0</td><td>1</td><td>4</td><td>3</td><td>10</td><td>2940</td><td>1790</td><td>1954</td><td>0</td><td>98033</td><td>47.6967</td><td>-122.216</td><td>3250</td><td>49346</td></tr><tr><th>27</th><td>9808100150</td><td>20150402T000000</td><td>3345000</td><td>5</td><td>3.75</td><td>5350</td><td>15360</td><td>1.0</td><td>0</td><td>1</td><td>3</td><td>11</td><td>3040</td><td>2310</td><td>2008</td><td>0</td><td>98004</td><td>47.648</td><td>-122.218</td><td>3740</td><td>15940</td></tr><tr><th>28</th><td>3625059043</td><td>20140904T000000</td><td>3300000</td><td>5</td><td>4.75</td><td>6200</td><td>13873</td><td>2.0</td><td>1</td><td>4</td><td>4</td><td>11</td><td>4440</td><td>1760</td><td>1989</td><td>0</td><td>98008</td><td>47.605</td><td>-122.112</td><td>2940</td><td>13525</td></tr><tr><th>29</th><td>3625059152</td><td>20141230T000000</td><td>3300000</td><td>3</td><td>3.25</td><td>4220</td><td>41300</td><td>1.0</td><td>1</td><td>4</td><td>4</td><td>11</td><td>2460</td><td>1760</td><td>1958</td><td>1987</td><td>98008</td><td>47.6083</td><td>-122.11</td><td>3810</td><td>30401</td></tr><tr><th>30</th><td>6072800246</td><td>20140702T000000</td><td>3300000</td><td>5</td><td>6.25</td><td>8020</td><td>21738</td><td>2.0</td><td>0</td><td>0</td><td>3</td><td>11</td><td>8020</td><td>0</td><td>2001</td><td>0</td><td>98006</td><td>47.5675</td><td>-122.189</td><td>4160</td><td>18969</td></tr><tr><th>&vellip;</th><td>&vellip;</td><td>&vellip;</td><td>&vellip;</td><td>&vellip;</td><td>&vellip;</td><td>&vellip;</td><td>&vellip;</td><td>&vellip;</td><td>&vellip;</td><td>&vellip;</td><td>&vellip;</td><td>&vellip;</td><td>&vellip;</td><td>&vellip;</td><td>&vellip;</td><td>&vellip;</td><td>&vellip;</td><td>&vellip;</td><td>&vellip;</td><td>&vellip;</td><td>&vellip;</td></tr></table>"
      ],
      "text/plain": [
       "21613x21 DataFrame\n",
       "| Row   | id         | date              | price   | bedrooms | bathrooms |\n",
       "|-------|------------|-------------------|---------|----------|-----------|\n",
       "| 1     | 6762700020 | \"20141013T000000\" | 7700000 | 6        | 8.0       |\n",
       "| 2     | 9808700762 | \"20140611T000000\" | 7062500 | 5        | 4.5       |\n",
       "| 3     | 9208900037 | \"20140919T000000\" | 6885000 | 6        | 7.75      |\n",
       "| 4     | 2470100110 | \"20140804T000000\" | 5570000 | 5        | 5.75      |\n",
       "| 5     | 8907500070 | \"20150413T000000\" | 5350000 | 5        | 5.0       |\n",
       "| 6     | 7558700030 | \"20150413T000000\" | 5300000 | 6        | 6.0       |\n",
       "| 7     | 1247600105 | \"20141020T000000\" | 5110800 | 5        | 5.25      |\n",
       "| 8     | 1924059029 | \"20140617T000000\" | 4668000 | 5        | 6.75      |\n",
       "| 9     | 7738500731 | \"20140815T000000\" | 4500000 | 5        | 5.5       |\n",
       "| 10    | 3835500195 | \"20140618T000000\" | 4489000 | 4        | 3.0       |\n",
       "| 11    | 6065300370 | \"20150506T000000\" | 4208000 | 5        | 6.0       |\n",
       "⋮\n",
       "| 21602 | 9320900420 | \"20141014T000000\" | 89000   | 3        | 1.0       |\n",
       "| 21603 | 1788900230 | \"20140722T000000\" | 86500   | 3        | 1.0       |\n",
       "| 21604 | 2422049104 | \"20140915T000000\" | 85000   | 2        | 1.0       |\n",
       "| 21605 | 1322049150 | \"20150305T000000\" | 85000   | 2        | 1.0       |\n",
       "| 21606 | 1523049188 | \"20150430T000000\" | 84000   | 2        | 1.0       |\n",
       "| 21607 | 7999600180 | \"20140529T000000\" | 83000   | 2        | 1.0       |\n",
       "| 21608 | 1623049041 | \"20140508T000000\" | 82500   | 2        | 1.0       |\n",
       "| 21609 | 3883800011 | \"20141105T000000\" | 82000   | 3        | 1.0       |\n",
       "| 21610 | 3028200080 | \"20150324T000000\" | 81000   | 2        | 1.0       |\n",
       "| 21611 | 8658300340 | \"20140523T000000\" | 80000   | 1        | 0.75      |\n",
       "| 21612 | 40000362   | \"20140506T000000\" | 78000   | 2        | 1.0       |\n",
       "| 21613 | 3421079032 | \"20150217T000000\" | 75000   | 1        | 0.0       |\n",
       "\n",
       "| Row   | sqft_living | sqft_lot | floors | waterfront | view | condition |\n",
       "|-------|-------------|----------|--------|------------|------|-----------|\n",
       "| 1     | 12050       | 27600    | 2.5    | 0          | 3    | 4         |\n",
       "| 2     | 10040       | 37325    | 2.0    | 1          | 2    | 3         |\n",
       "| 3     | 9890        | 31374    | 2.0    | 0          | 4    | 3         |\n",
       "| 4     | 9200        | 35069    | 2.0    | 0          | 0    | 3         |\n",
       "| 5     | 8000        | 23985    | 2.0    | 0          | 4    | 3         |\n",
       "| 6     | 7390        | 24829    | 2.0    | 1          | 4    | 4         |\n",
       "| 7     | 8010        | 45517    | 2.0    | 1          | 4    | 3         |\n",
       "| 8     | 9640        | 13068    | 1.0    | 1          | 4    | 3         |\n",
       "| 9     | 6640        | 40014    | 2.0    | 1          | 4    | 3         |\n",
       "| 10    | 6430        | 27517    | 2.0    | 0          | 0    | 3         |\n",
       "| 11    | 7440        | 21540    | 2.0    | 0          | 0    | 3         |\n",
       "⋮\n",
       "| 21602 | 900         | 4750     | 1.0    | 0          | 0    | 4         |\n",
       "| 21603 | 840         | 9480     | 1.0    | 0          | 0    | 3         |\n",
       "| 21604 | 830         | 9000     | 1.0    | 0          | 0    | 3         |\n",
       "| 21605 | 910         | 9753     | 1.0    | 0          | 0    | 3         |\n",
       "| 21606 | 700         | 20130    | 1.0    | 0          | 0    | 3         |\n",
       "| 21607 | 900         | 8580     | 1.0    | 0          | 0    | 3         |\n",
       "| 21608 | 520         | 22334    | 1.0    | 0          | 0    | 2         |\n",
       "| 21609 | 860         | 10426    | 1.0    | 0          | 0    | 3         |\n",
       "| 21610 | 730         | 9975     | 1.0    | 0          | 0    | 1         |\n",
       "| 21611 | 430         | 5050     | 1.0    | 0          | 0    | 2         |\n",
       "| 21612 | 780         | 16344    | 1.0    | 0          | 0    | 1         |\n",
       "| 21613 | 670         | 43377    | 1.0    | 0          | 0    | 3         |\n",
       "\n",
       "| Row   | grade | sqft_above | sqft_basement | yr_built | yr_renovated |\n",
       "|-------|-------|------------|---------------|----------|--------------|\n",
       "| 1     | 13    | 8570       | 3480          | 1910     | 1987         |\n",
       "| 2     | 11    | 7680       | 2360          | 1940     | 2001         |\n",
       "| 3     | 13    | 8860       | 1030          | 2001     | 0            |\n",
       "| 4     | 13    | 6200       | 3000          | 2001     | 0            |\n",
       "| 5     | 12    | 6720       | 1280          | 2009     | 0            |\n",
       "| 6     | 12    | 5000       | 2390          | 1991     | 0            |\n",
       "| 7     | 12    | 5990       | 2020          | 1999     | 0            |\n",
       "| 8     | 12    | 4820       | 4820          | 1983     | 2009         |\n",
       "| 9     | 12    | 6350       | 290           | 2004     | 0            |\n",
       "| 10    | 12    | 6430       | 0             | 2001     | 0            |\n",
       "| 11    | 12    | 5550       | 1890          | 2003     | 0            |\n",
       "⋮\n",
       "| 21602 | 6     | 900        | 0             | 1969     | 0            |\n",
       "| 21603 | 6     | 840        | 0             | 1960     | 0            |\n",
       "| 21604 | 6     | 830        | 0             | 1939     | 0            |\n",
       "| 21605 | 5     | 910        | 0             | 1947     | 0            |\n",
       "| 21606 | 6     | 700        | 0             | 1949     | 0            |\n",
       "| 21607 | 5     | 900        | 0             | 1918     | 0            |\n",
       "| 21608 | 5     | 520        | 0             | 1951     | 0            |\n",
       "| 21609 | 6     | 860        | 0             | 1954     | 0            |\n",
       "| 21610 | 5     | 730        | 0             | 1943     | 0            |\n",
       "| 21611 | 4     | 430        | 0             | 1912     | 0            |\n",
       "| 21612 | 5     | 780        | 0             | 1942     | 0            |\n",
       "| 21613 | 3     | 670        | 0             | 1966     | 0            |\n",
       "\n",
       "| Row   | zipcode | lat     | long     | sqft_living15 | sqft_lot15 |\n",
       "|-------|---------|---------|----------|---------------|------------|\n",
       "| 1     | 98102   | 47.6298 | -122.323 | 3940          | 8800       |\n",
       "| 2     | 98004   | 47.65   | -122.214 | 3930          | 25449      |\n",
       "| 3     | 98039   | 47.6305 | -122.24  | 4540          | 42730      |\n",
       "| 4     | 98039   | 47.6289 | -122.233 | 3560          | 24345      |\n",
       "| 5     | 98004   | 47.6232 | -122.22  | 4600          | 21750      |\n",
       "| 6     | 98040   | 47.5631 | -122.21  | 4320          | 24619      |\n",
       "| 7     | 98033   | 47.6767 | -122.211 | 3430          | 26788      |\n",
       "| 8     | 98040   | 47.557  | -122.21  | 3270          | 10454      |\n",
       "| 9     | 98155   | 47.7493 | -122.28  | 3030          | 23408      |\n",
       "| 10    | 98004   | 47.6208 | -122.219 | 3720          | 14592      |\n",
       "| 11    | 98006   | 47.5692 | -122.189 | 4740          | 19329      |\n",
       "⋮\n",
       "| 21602 | 98023   | 47.3026 | -122.363 | 900           | 3404       |\n",
       "| 21603 | 98023   | 47.3277 | -122.341 | 840           | 9420       |\n",
       "| 21604 | 98032   | 47.3813 | -122.243 | 1160          | 7680       |\n",
       "| 21605 | 98032   | 47.3897 | -122.236 | 1160          | 7405       |\n",
       "| 21606 | 98168   | 47.4752 | -122.271 | 1490          | 18630      |\n",
       "| 21607 | 98168   | 47.4727 | -122.27  | 2060          | 6533       |\n",
       "| 21608 | 98168   | 47.4799 | -122.296 | 1572          | 10570      |\n",
       "| 21609 | 98146   | 47.4987 | -122.341 | 1140          | 11250      |\n",
       "| 21610 | 98168   | 47.4808 | -122.315 | 860           | 9000       |\n",
       "| 21611 | 98014   | 47.6499 | -121.909 | 1200          | 7500       |\n",
       "| 21612 | 98168   | 47.4739 | -122.28  | 1700          | 10387      |\n",
       "| 21613 | 98022   | 47.2638 | -121.906 | 1160          | 42882      |"
      ]
     },
     "execution_count": 14,
     "metadata": {},
     "output_type": "execute_result"
    }
   ],
   "source": [
    "sorted_df_2 = sort(df,cols = :price, rev = true)"
   ]
  },
  {
   "cell_type": "markdown",
   "metadata": {},
   "source": [
    "## Multi level sorting"
   ]
  },
  {
   "cell_type": "markdown",
   "metadata": {},
   "source": [
    "### Sort house data according to the increasing order of bedrooms and price"
   ]
  },
  {
   "cell_type": "code",
   "execution_count": 15,
   "metadata": {
    "collapsed": false
   },
   "outputs": [
    {
     "data": {
      "text/html": [
       "<table class=\"data-frame\"><tr><th></th><th>id</th><th>date</th><th>price</th><th>bedrooms</th><th>bathrooms</th><th>sqft_living</th><th>sqft_lot</th><th>floors</th><th>waterfront</th><th>view</th><th>condition</th><th>grade</th><th>sqft_above</th><th>sqft_basement</th><th>yr_built</th><th>yr_renovated</th><th>zipcode</th><th>lat</th><th>long</th><th>sqft_living15</th><th>sqft_lot15</th></tr><tr><th>1</th><td>9543000205</td><td>20150413T000000</td><td>139950</td><td>0</td><td>0.0</td><td>844</td><td>4269</td><td>1.0</td><td>0</td><td>0</td><td>4</td><td>7</td><td>844</td><td>0</td><td>1913</td><td>0</td><td>98001</td><td>47.2781</td><td>-122.25</td><td>1380</td><td>9600</td></tr><tr><th>2</th><td>3980300371</td><td>20140926T000000</td><td>142000</td><td>0</td><td>0.0</td><td>290</td><td>20875</td><td>1.0</td><td>0</td><td>0</td><td>1</td><td>1</td><td>290</td><td>0</td><td>1963</td><td>0</td><td>98024</td><td>47.5308</td><td>-121.888</td><td>1620</td><td>22850</td></tr><tr><th>3</th><td>6896300380</td><td>20141002T000000</td><td>228000</td><td>0</td><td>1.0</td><td>390</td><td>5900</td><td>1.0</td><td>0</td><td>0</td><td>2</td><td>4</td><td>390</td><td>0</td><td>1953</td><td>0</td><td>98118</td><td>47.526</td><td>-122.261</td><td>2170</td><td>6000</td></tr><tr><th>4</th><td>7849202190</td><td>20141223T000000</td><td>235000</td><td>0</td><td>0.0</td><td>1470</td><td>4800</td><td>2.0</td><td>0</td><td>0</td><td>3</td><td>7</td><td>1470</td><td>0</td><td>1996</td><td>0</td><td>98065</td><td>47.5265</td><td>-121.828</td><td>1060</td><td>7200</td></tr><tr><th>5</th><td>2310060040</td><td>20140925T000000</td><td>240000</td><td>0</td><td>2.5</td><td>1810</td><td>5669</td><td>2.0</td><td>0</td><td>0</td><td>3</td><td>7</td><td>1810</td><td>0</td><td>2003</td><td>0</td><td>98038</td><td>47.3493</td><td>-122.053</td><td>1810</td><td>5685</td></tr><tr><th>6</th><td>1222029077</td><td>20141029T000000</td><td>265000</td><td>0</td><td>0.75</td><td>384</td><td>213444</td><td>1.0</td><td>0</td><td>0</td><td>3</td><td>4</td><td>384</td><td>0</td><td>2003</td><td>0</td><td>98070</td><td>47.4177</td><td>-122.491</td><td>1920</td><td>224341</td></tr><tr><th>7</th><td>1453602309</td><td>20140805T000000</td><td>288000</td><td>0</td><td>1.5</td><td>1430</td><td>1650</td><td>3.0</td><td>0</td><td>0</td><td>3</td><td>7</td><td>1430</td><td>0</td><td>1999</td><td>0</td><td>98125</td><td>47.7222</td><td>-122.29</td><td>1430</td><td>1650</td></tr><tr><th>8</th><td>7849202299</td><td>20150218T000000</td><td>320000</td><td>0</td><td>2.5</td><td>1490</td><td>7111</td><td>2.0</td><td>0</td><td>0</td><td>3</td><td>7</td><td>1490</td><td>0</td><td>1999</td><td>0</td><td>98065</td><td>47.5261</td><td>-121.826</td><td>1500</td><td>4675</td></tr><tr><th>9</th><td>2569500210</td><td>20141117T000000</td><td>339950</td><td>0</td><td>2.5</td><td>2290</td><td>8319</td><td>2.0</td><td>0</td><td>0</td><td>3</td><td>8</td><td>2290</td><td>0</td><td>1985</td><td>0</td><td>98042</td><td>47.3473</td><td>-122.151</td><td>2500</td><td>8751</td></tr><tr><th>10</th><td>3374500520</td><td>20150429T000000</td><td>355000</td><td>0</td><td>0.0</td><td>2460</td><td>8049</td><td>2.0</td><td>0</td><td>0</td><td>3</td><td>8</td><td>2460</td><td>0</td><td>1990</td><td>0</td><td>98031</td><td>47.4095</td><td>-122.168</td><td>2520</td><td>8050</td></tr><tr><th>11</th><td>3918400017</td><td>20150205T000000</td><td>380000</td><td>0</td><td>0.0</td><td>1470</td><td>979</td><td>3.0</td><td>0</td><td>2</td><td>3</td><td>8</td><td>1470</td><td>0</td><td>2006</td><td>0</td><td>98133</td><td>47.7145</td><td>-122.356</td><td>1470</td><td>1399</td></tr><tr><th>12</th><td>6306400140</td><td>20140612T000000</td><td>1095000</td><td>0</td><td>0.0</td><td>3064</td><td>4764</td><td>3.5</td><td>0</td><td>2</td><td>3</td><td>7</td><td>3064</td><td>0</td><td>1990</td><td>0</td><td>98102</td><td>47.6362</td><td>-122.322</td><td>2360</td><td>4000</td></tr><tr><th>13</th><td>2954400190</td><td>20140624T000000</td><td>1295648</td><td>0</td><td>0.0</td><td>4810</td><td>28008</td><td>2.0</td><td>0</td><td>0</td><td>3</td><td>12</td><td>4810</td><td>0</td><td>1990</td><td>0</td><td>98053</td><td>47.6642</td><td>-122.069</td><td>4740</td><td>35061</td></tr><tr><th>14</th><td>3421079032</td><td>20150217T000000</td><td>75000</td><td>1</td><td>0.0</td><td>670</td><td>43377</td><td>1.0</td><td>0</td><td>0</td><td>3</td><td>3</td><td>670</td><td>0</td><td>1966</td><td>0</td><td>98022</td><td>47.2638</td><td>-121.906</td><td>1160</td><td>42882</td></tr><tr><th>15</th><td>8658300340</td><td>20140523T000000</td><td>80000</td><td>1</td><td>0.75</td><td>430</td><td>5050</td><td>1.0</td><td>0</td><td>0</td><td>2</td><td>4</td><td>430</td><td>0</td><td>1912</td><td>0</td><td>98014</td><td>47.6499</td><td>-121.909</td><td>1200</td><td>7500</td></tr><tr><th>16</th><td>1721801591</td><td>20150219T000000</td><td>89950</td><td>1</td><td>1.0</td><td>570</td><td>4080</td><td>1.0</td><td>0</td><td>0</td><td>3</td><td>5</td><td>570</td><td>0</td><td>1942</td><td>0</td><td>98146</td><td>47.5098</td><td>-122.334</td><td>890</td><td>5100</td></tr><tr><th>17</th><td>2734100835</td><td>20150303T000000</td><td>90000</td><td>1</td><td>1.0</td><td>780</td><td>4000</td><td>1.0</td><td>0</td><td>0</td><td>3</td><td>5</td><td>780</td><td>0</td><td>1905</td><td>0</td><td>98108</td><td>47.5424</td><td>-122.321</td><td>1150</td><td>4000</td></tr><tr><th>18</th><td>2114700500</td><td>20150418T000000</td><td>90000</td><td>1</td><td>1.0</td><td>560</td><td>4120</td><td>1.0</td><td>0</td><td>0</td><td>3</td><td>4</td><td>560</td><td>0</td><td>1947</td><td>0</td><td>98106</td><td>47.5335</td><td>-122.348</td><td>980</td><td>4120</td></tr><tr><th>19</th><td>7335400215</td><td>20150505T000000</td><td>95000</td><td>1</td><td>0.75</td><td>760</td><td>5746</td><td>1.0</td><td>0</td><td>0</td><td>4</td><td>5</td><td>760</td><td>0</td><td>1915</td><td>0</td><td>98002</td><td>47.3046</td><td>-122.215</td><td>970</td><td>6696</td></tr><tr><th>20</th><td>7211402105</td><td>20141126T000000</td><td>106000</td><td>1</td><td>1.0</td><td>560</td><td>5700</td><td>1.0</td><td>0</td><td>0</td><td>3</td><td>5</td><td>560</td><td>0</td><td>1947</td><td>0</td><td>98146</td><td>47.511</td><td>-122.359</td><td>1120</td><td>5000</td></tr><tr><th>21</th><td>2853600155</td><td>20140915T000000</td><td>110000</td><td>1</td><td>1.0</td><td>640</td><td>10280</td><td>1.0</td><td>0</td><td>0</td><td>2</td><td>5</td><td>640</td><td>0</td><td>1920</td><td>0</td><td>98126</td><td>47.5144</td><td>-122.368</td><td>1090</td><td>9000</td></tr><tr><th>22</th><td>2648500030</td><td>20140725T000000</td><td>112000</td><td>1</td><td>1.0</td><td>1080</td><td>3230</td><td>1.0</td><td>0</td><td>0</td><td>3</td><td>6</td><td>1080</td><td>0</td><td>1963</td><td>0</td><td>98002</td><td>47.3075</td><td>-122.217</td><td>1210</td><td>5760</td></tr><tr><th>23</th><td>4031000520</td><td>20140708T000000</td><td>115000</td><td>1</td><td>2.0</td><td>1150</td><td>9812</td><td>1.0</td><td>0</td><td>0</td><td>4</td><td>7</td><td>1150</td><td>0</td><td>1962</td><td>0</td><td>98001</td><td>47.2951</td><td>-122.284</td><td>1200</td><td>9812</td></tr><tr><th>24</th><td>1545807810</td><td>20141021T000000</td><td>118000</td><td>1</td><td>1.0</td><td>670</td><td>7957</td><td>1.0</td><td>0</td><td>0</td><td>4</td><td>6</td><td>670</td><td>0</td><td>1978</td><td>0</td><td>98038</td><td>47.3594</td><td>-122.056</td><td>1600</td><td>7957</td></tr><tr><th>25</th><td>3598600049</td><td>20141003T000000</td><td>124000</td><td>1</td><td>0.75</td><td>840</td><td>7203</td><td>1.5</td><td>0</td><td>0</td><td>3</td><td>6</td><td>840</td><td>0</td><td>1949</td><td>0</td><td>98168</td><td>47.4756</td><td>-122.301</td><td>1560</td><td>8603</td></tr><tr><th>26</th><td>859000110</td><td>20141002T000000</td><td>125000</td><td>1</td><td>1.0</td><td>500</td><td>7440</td><td>1.0</td><td>0</td><td>0</td><td>1</td><td>5</td><td>500</td><td>0</td><td>1928</td><td>0</td><td>98106</td><td>47.5252</td><td>-122.362</td><td>1350</td><td>7440</td></tr><tr><th>27</th><td>1352300990</td><td>20140826T000000</td><td>126000</td><td>1</td><td>1.0</td><td>610</td><td>4400</td><td>1.0</td><td>0</td><td>0</td><td>3</td><td>5</td><td>610</td><td>0</td><td>1922</td><td>0</td><td>98055</td><td>47.4865</td><td>-122.197</td><td>1090</td><td>4930</td></tr><tr><th>28</th><td>2722059292</td><td>20140604T000000</td><td>129000</td><td>1</td><td>1.0</td><td>650</td><td>15364</td><td>1.0</td><td>0</td><td>0</td><td>4</td><td>5</td><td>650</td><td>0</td><td>1967</td><td>0</td><td>98042</td><td>47.3721</td><td>-122.159</td><td>1630</td><td>7952</td></tr><tr><th>29</th><td>985001015</td><td>20140604T000000</td><td>135000</td><td>1</td><td>1.0</td><td>790</td><td>13062</td><td>1.0</td><td>0</td><td>0</td><td>3</td><td>6</td><td>790</td><td>0</td><td>1942</td><td>0</td><td>98168</td><td>47.4919</td><td>-122.311</td><td>1240</td><td>7137</td></tr><tr><th>30</th><td>3340401535</td><td>20141105T000000</td><td>140000</td><td>1</td><td>1.0</td><td>730</td><td>6890</td><td>1.0</td><td>0</td><td>0</td><td>4</td><td>4</td><td>730</td><td>0</td><td>1926</td><td>0</td><td>98055</td><td>47.467</td><td>-122.215</td><td>1790</td><td>7969</td></tr><tr><th>&vellip;</th><td>&vellip;</td><td>&vellip;</td><td>&vellip;</td><td>&vellip;</td><td>&vellip;</td><td>&vellip;</td><td>&vellip;</td><td>&vellip;</td><td>&vellip;</td><td>&vellip;</td><td>&vellip;</td><td>&vellip;</td><td>&vellip;</td><td>&vellip;</td><td>&vellip;</td><td>&vellip;</td><td>&vellip;</td><td>&vellip;</td><td>&vellip;</td><td>&vellip;</td><td>&vellip;</td></tr></table>"
      ],
      "text/plain": [
       "21613x21 DataFrame\n",
       "| Row   | id         | date              | price   | bedrooms | bathrooms |\n",
       "|-------|------------|-------------------|---------|----------|-----------|\n",
       "| 1     | 9543000205 | \"20150413T000000\" | 139950  | 0        | 0.0       |\n",
       "| 2     | 3980300371 | \"20140926T000000\" | 142000  | 0        | 0.0       |\n",
       "| 3     | 6896300380 | \"20141002T000000\" | 228000  | 0        | 1.0       |\n",
       "| 4     | 7849202190 | \"20141223T000000\" | 235000  | 0        | 0.0       |\n",
       "| 5     | 2310060040 | \"20140925T000000\" | 240000  | 0        | 2.5       |\n",
       "| 6     | 1222029077 | \"20141029T000000\" | 265000  | 0        | 0.75      |\n",
       "| 7     | 1453602309 | \"20140805T000000\" | 288000  | 0        | 1.5       |\n",
       "| 8     | 7849202299 | \"20150218T000000\" | 320000  | 0        | 2.5       |\n",
       "| 9     | 2569500210 | \"20141117T000000\" | 339950  | 0        | 2.5       |\n",
       "| 10    | 3374500520 | \"20150429T000000\" | 355000  | 0        | 0.0       |\n",
       "| 11    | 3918400017 | \"20150205T000000\" | 380000  | 0        | 0.0       |\n",
       "⋮\n",
       "| 21602 | 1346300150 | \"20141020T000000\" | 3300000 | 8        | 4.0       |\n",
       "| 21603 | 424049043  | \"20140811T000000\" | 450000  | 9        | 7.5       |\n",
       "| 21604 | 1997200215 | \"20140507T000000\" | 599999  | 9        | 4.5       |\n",
       "| 21605 | 2902200015 | \"20150106T000000\" | 700000  | 9        | 3.0       |\n",
       "| 21606 | 8823901445 | \"20150313T000000\" | 934000  | 9        | 3.0       |\n",
       "| 21607 | 9822700190 | \"20140808T000000\" | 1280000 | 9        | 4.5       |\n",
       "| 21608 | 8823900290 | \"20150317T000000\" | 1400000 | 9        | 4.0       |\n",
       "| 21609 | 5566100170 | \"20141029T000000\" | 650000  | 10       | 2.0       |\n",
       "| 21610 | 8812401450 | \"20141229T000000\" | 660000  | 10       | 3.0       |\n",
       "| 21611 | 627300145  | \"20140814T000000\" | 1148000 | 10       | 5.25      |\n",
       "| 21612 | 1773100755 | \"20140821T000000\" | 520000  | 11       | 3.0       |\n",
       "| 21613 | 2402100895 | \"20140625T000000\" | 640000  | 33       | 1.75      |\n",
       "\n",
       "| Row   | sqft_living | sqft_lot | floors | waterfront | view | condition |\n",
       "|-------|-------------|----------|--------|------------|------|-----------|\n",
       "| 1     | 844         | 4269     | 1.0    | 0          | 0    | 4         |\n",
       "| 2     | 290         | 20875    | 1.0    | 0          | 0    | 1         |\n",
       "| 3     | 390         | 5900     | 1.0    | 0          | 0    | 2         |\n",
       "| 4     | 1470        | 4800     | 2.0    | 0          | 0    | 3         |\n",
       "| 5     | 1810        | 5669     | 2.0    | 0          | 0    | 3         |\n",
       "| 6     | 384         | 213444   | 1.0    | 0          | 0    | 3         |\n",
       "| 7     | 1430        | 1650     | 3.0    | 0          | 0    | 3         |\n",
       "| 8     | 1490        | 7111     | 2.0    | 0          | 0    | 3         |\n",
       "| 9     | 2290        | 8319     | 2.0    | 0          | 0    | 3         |\n",
       "| 10    | 2460        | 8049     | 2.0    | 0          | 0    | 3         |\n",
       "| 11    | 1470        | 979      | 3.0    | 0          | 2    | 3         |\n",
       "⋮\n",
       "| 21602 | 7710        | 11750    | 3.5    | 0          | 0    | 5         |\n",
       "| 21603 | 4050        | 6504     | 2.0    | 0          | 0    | 3         |\n",
       "| 21604 | 3830        | 6988     | 2.5    | 0          | 0    | 3         |\n",
       "| 21605 | 3680        | 4400     | 2.0    | 0          | 0    | 3         |\n",
       "| 21606 | 2820        | 4480     | 2.0    | 0          | 0    | 3         |\n",
       "| 21607 | 3650        | 5000     | 2.0    | 0          | 0    | 3         |\n",
       "| 21608 | 4620        | 5508     | 2.5    | 0          | 0    | 3         |\n",
       "| 21609 | 3610        | 11914    | 2.0    | 0          | 0    | 4         |\n",
       "| 21610 | 2920        | 3745     | 2.0    | 0          | 0    | 4         |\n",
       "| 21611 | 4590        | 10920    | 1.0    | 0          | 2    | 3         |\n",
       "| 21612 | 3000        | 4960     | 2.0    | 0          | 0    | 3         |\n",
       "| 21613 | 1620        | 6000     | 1.0    | 0          | 0    | 5         |\n",
       "\n",
       "| Row   | grade | sqft_above | sqft_basement | yr_built | yr_renovated |\n",
       "|-------|-------|------------|---------------|----------|--------------|\n",
       "| 1     | 7     | 844        | 0             | 1913     | 0            |\n",
       "| 2     | 1     | 290        | 0             | 1963     | 0            |\n",
       "| 3     | 4     | 390        | 0             | 1953     | 0            |\n",
       "| 4     | 7     | 1470       | 0             | 1996     | 0            |\n",
       "| 5     | 7     | 1810       | 0             | 2003     | 0            |\n",
       "| 6     | 4     | 384        | 0             | 2003     | 0            |\n",
       "| 7     | 7     | 1430       | 0             | 1999     | 0            |\n",
       "| 8     | 7     | 1490       | 0             | 1999     | 0            |\n",
       "| 9     | 8     | 2290       | 0             | 1985     | 0            |\n",
       "| 10    | 8     | 2460       | 0             | 1990     | 0            |\n",
       "| 11    | 8     | 1470       | 0             | 2006     | 0            |\n",
       "⋮\n",
       "| 21602 | 12    | 6090       | 1620          | 1904     | 0            |\n",
       "| 21603 | 7     | 4050       | 0             | 1996     | 0            |\n",
       "| 21604 | 7     | 2450       | 1380          | 1938     | 0            |\n",
       "| 21605 | 7     | 2830       | 850           | 1908     | 0            |\n",
       "| 21606 | 7     | 1880       | 940           | 1918     | 0            |\n",
       "| 21607 | 8     | 2530       | 1120          | 1915     | 2010         |\n",
       "| 21608 | 11    | 3870       | 750           | 1915     | 0            |\n",
       "| 21609 | 7     | 3010       | 600           | 1958     | 0            |\n",
       "| 21610 | 7     | 1860       | 1060          | 1913     | 0            |\n",
       "| 21611 | 9     | 2500       | 2090          | 2008     | 0            |\n",
       "| 21612 | 7     | 2400       | 600           | 1918     | 1999         |\n",
       "| 21613 | 7     | 1040       | 580           | 1947     | 0            |\n",
       "\n",
       "| Row   | zipcode | lat     | long     | sqft_living15 | sqft_lot15 |\n",
       "|-------|---------|---------|----------|---------------|------------|\n",
       "| 1     | 98001   | 47.2781 | -122.25  | 1380          | 9600       |\n",
       "| 2     | 98024   | 47.5308 | -121.888 | 1620          | 22850      |\n",
       "| 3     | 98118   | 47.526  | -122.261 | 2170          | 6000       |\n",
       "| 4     | 98065   | 47.5265 | -121.828 | 1060          | 7200       |\n",
       "| 5     | 98038   | 47.3493 | -122.053 | 1810          | 5685       |\n",
       "| 6     | 98070   | 47.4177 | -122.491 | 1920          | 224341     |\n",
       "| 7     | 98125   | 47.7222 | -122.29  | 1430          | 1650       |\n",
       "| 8     | 98065   | 47.5261 | -121.826 | 1500          | 4675       |\n",
       "| 9     | 98042   | 47.3473 | -122.151 | 2500          | 8751       |\n",
       "| 10    | 98031   | 47.4095 | -122.168 | 2520          | 8050       |\n",
       "| 11    | 98133   | 47.7145 | -122.356 | 1470          | 1399       |\n",
       "⋮\n",
       "| 21602 | 98112   | 47.6263 | -122.314 | 4210          | 8325       |\n",
       "| 21603 | 98144   | 47.5923 | -122.301 | 1448          | 3866       |\n",
       "| 21604 | 98103   | 47.6927 | -122.338 | 1460          | 6291       |\n",
       "| 21605 | 98102   | 47.6374 | -122.324 | 1960          | 2450       |\n",
       "| 21606 | 98105   | 47.6654 | -122.307 | 2460          | 4400       |\n",
       "| 21607 | 98105   | 47.6604 | -122.289 | 2510          | 5000       |\n",
       "| 21608 | 98105   | 47.6684 | -122.309 | 2710          | 4320       |\n",
       "| 21609 | 98006   | 47.5705 | -122.175 | 2040          | 11914      |\n",
       "| 21610 | 98105   | 47.6635 | -122.32  | 1810          | 3745       |\n",
       "| 21611 | 98004   | 47.5861 | -122.113 | 2730          | 10400      |\n",
       "| 21612 | 98106   | 47.556  | -122.363 | 1420          | 4960       |\n",
       "| 21613 | 98103   | 47.6878 | -122.331 | 1330          | 4700       |"
      ]
     },
     "execution_count": 15,
     "metadata": {},
     "output_type": "execute_result"
    }
   ],
   "source": [
    "Dual_levelsort = sort(df,cols = [:bedrooms,:price])"
   ]
  },
  {
   "cell_type": "markdown",
   "metadata": {},
   "source": [
    "### Sort data in decreasing order of bedroom and increasing order of price"
   ]
  },
  {
   "cell_type": "code",
   "execution_count": 16,
   "metadata": {
    "collapsed": false
   },
   "outputs": [
    {
     "data": {
      "text/html": [
       "<table class=\"data-frame\"><tr><th></th><th>id</th><th>date</th><th>price</th><th>bedrooms</th><th>bathrooms</th><th>sqft_living</th><th>sqft_lot</th><th>floors</th><th>waterfront</th><th>view</th><th>condition</th><th>grade</th><th>sqft_above</th><th>sqft_basement</th><th>yr_built</th><th>yr_renovated</th><th>zipcode</th><th>lat</th><th>long</th><th>sqft_living15</th><th>sqft_lot15</th></tr><tr><th>1</th><td>2402100895</td><td>20140625T000000</td><td>640000</td><td>33</td><td>1.75</td><td>1620</td><td>6000</td><td>1.0</td><td>0</td><td>0</td><td>5</td><td>7</td><td>1040</td><td>580</td><td>1947</td><td>0</td><td>98103</td><td>47.6878</td><td>-122.331</td><td>1330</td><td>4700</td></tr><tr><th>2</th><td>1773100755</td><td>20140821T000000</td><td>520000</td><td>11</td><td>3.0</td><td>3000</td><td>4960</td><td>2.0</td><td>0</td><td>0</td><td>3</td><td>7</td><td>2400</td><td>600</td><td>1918</td><td>1999</td><td>98106</td><td>47.556</td><td>-122.363</td><td>1420</td><td>4960</td></tr><tr><th>3</th><td>5566100170</td><td>20141029T000000</td><td>650000</td><td>10</td><td>2.0</td><td>3610</td><td>11914</td><td>2.0</td><td>0</td><td>0</td><td>4</td><td>7</td><td>3010</td><td>600</td><td>1958</td><td>0</td><td>98006</td><td>47.5705</td><td>-122.175</td><td>2040</td><td>11914</td></tr><tr><th>4</th><td>8812401450</td><td>20141229T000000</td><td>660000</td><td>10</td><td>3.0</td><td>2920</td><td>3745</td><td>2.0</td><td>0</td><td>0</td><td>4</td><td>7</td><td>1860</td><td>1060</td><td>1913</td><td>0</td><td>98105</td><td>47.6635</td><td>-122.32</td><td>1810</td><td>3745</td></tr><tr><th>5</th><td>627300145</td><td>20140814T000000</td><td>1148000</td><td>10</td><td>5.25</td><td>4590</td><td>10920</td><td>1.0</td><td>0</td><td>2</td><td>3</td><td>9</td><td>2500</td><td>2090</td><td>2008</td><td>0</td><td>98004</td><td>47.5861</td><td>-122.113</td><td>2730</td><td>10400</td></tr><tr><th>6</th><td>424049043</td><td>20140811T000000</td><td>450000</td><td>9</td><td>7.5</td><td>4050</td><td>6504</td><td>2.0</td><td>0</td><td>0</td><td>3</td><td>7</td><td>4050</td><td>0</td><td>1996</td><td>0</td><td>98144</td><td>47.5923</td><td>-122.301</td><td>1448</td><td>3866</td></tr><tr><th>7</th><td>1997200215</td><td>20140507T000000</td><td>599999</td><td>9</td><td>4.5</td><td>3830</td><td>6988</td><td>2.5</td><td>0</td><td>0</td><td>3</td><td>7</td><td>2450</td><td>1380</td><td>1938</td><td>0</td><td>98103</td><td>47.6927</td><td>-122.338</td><td>1460</td><td>6291</td></tr><tr><th>8</th><td>2902200015</td><td>20150106T000000</td><td>700000</td><td>9</td><td>3.0</td><td>3680</td><td>4400</td><td>2.0</td><td>0</td><td>0</td><td>3</td><td>7</td><td>2830</td><td>850</td><td>1908</td><td>0</td><td>98102</td><td>47.6374</td><td>-122.324</td><td>1960</td><td>2450</td></tr><tr><th>9</th><td>8823901445</td><td>20150313T000000</td><td>934000</td><td>9</td><td>3.0</td><td>2820</td><td>4480</td><td>2.0</td><td>0</td><td>0</td><td>3</td><td>7</td><td>1880</td><td>940</td><td>1918</td><td>0</td><td>98105</td><td>47.6654</td><td>-122.307</td><td>2460</td><td>4400</td></tr><tr><th>10</th><td>9822700190</td><td>20140808T000000</td><td>1280000</td><td>9</td><td>4.5</td><td>3650</td><td>5000</td><td>2.0</td><td>0</td><td>0</td><td>3</td><td>8</td><td>2530</td><td>1120</td><td>1915</td><td>2010</td><td>98105</td><td>47.6604</td><td>-122.289</td><td>2510</td><td>5000</td></tr><tr><th>11</th><td>8823900290</td><td>20150317T000000</td><td>1400000</td><td>9</td><td>4.0</td><td>4620</td><td>5508</td><td>2.5</td><td>0</td><td>0</td><td>3</td><td>11</td><td>3870</td><td>750</td><td>1915</td><td>0</td><td>98105</td><td>47.6684</td><td>-122.309</td><td>2710</td><td>4320</td></tr><tr><th>12</th><td>1873400020</td><td>20140703T000000</td><td>340000</td><td>8</td><td>2.75</td><td>2790</td><td>6695</td><td>1.0</td><td>0</td><td>0</td><td>3</td><td>7</td><td>1470</td><td>1320</td><td>1977</td><td>0</td><td>98133</td><td>47.7565</td><td>-122.331</td><td>1760</td><td>7624</td></tr><tr><th>13</th><td>7226500100</td><td>20150219T000000</td><td>373000</td><td>8</td><td>3.0</td><td>2850</td><td>12714</td><td>1.0</td><td>0</td><td>0</td><td>3</td><td>7</td><td>2850</td><td>0</td><td>1959</td><td>0</td><td>98055</td><td>47.4859</td><td>-122.205</td><td>1480</td><td>4942</td></tr><tr><th>14</th><td>7418000130</td><td>20141211T000000</td><td>430000</td><td>8</td><td>3.25</td><td>4300</td><td>10441</td><td>2.0</td><td>0</td><td>0</td><td>4</td><td>8</td><td>2800</td><td>1500</td><td>1979</td><td>0</td><td>98059</td><td>47.4786</td><td>-122.131</td><td>1780</td><td>10457</td></tr><tr><th>15</th><td>9126101740</td><td>20141204T000000</td><td>490000</td><td>8</td><td>5.0</td><td>2800</td><td>2580</td><td>2.0</td><td>0</td><td>0</td><td>3</td><td>8</td><td>1880</td><td>920</td><td>1997</td><td>0</td><td>98122</td><td>47.6086</td><td>-122.303</td><td>1800</td><td>2580</td></tr><tr><th>16</th><td>3756900027</td><td>20141125T000000</td><td>575000</td><td>8</td><td>3.0</td><td>3840</td><td>15990</td><td>1.0</td><td>0</td><td>0</td><td>3</td><td>7</td><td>2530</td><td>1310</td><td>1961</td><td>0</td><td>98034</td><td>47.7111</td><td>-122.211</td><td>1380</td><td>8172</td></tr><tr><th>17</th><td>8141200080</td><td>20140814T000000</td><td>680000</td><td>8</td><td>2.75</td><td>2530</td><td>4800</td><td>2.0</td><td>0</td><td>0</td><td>4</td><td>7</td><td>1390</td><td>1140</td><td>1901</td><td>0</td><td>98112</td><td>47.6241</td><td>-122.305</td><td>1540</td><td>4800</td></tr><tr><th>18</th><td>6746700615</td><td>20150318T000000</td><td>700000</td><td>8</td><td>2.5</td><td>2280</td><td>3000</td><td>1.5</td><td>0</td><td>0</td><td>3</td><td>7</td><td>1210</td><td>1070</td><td>1911</td><td>0</td><td>98105</td><td>47.6675</td><td>-122.316</td><td>1610</td><td>3000</td></tr><tr><th>19</th><td>8813400155</td><td>20141219T000000</td><td>808000</td><td>8</td><td>3.75</td><td>3460</td><td>4600</td><td>2.0</td><td>0</td><td>0</td><td>3</td><td>7</td><td>2860</td><td>600</td><td>1987</td><td>0</td><td>98105</td><td>47.6617</td><td>-122.289</td><td>2170</td><td>3750</td></tr><tr><th>20</th><td>2769600590</td><td>20141016T000000</td><td>900000</td><td>8</td><td>4.0</td><td>4020</td><td>7500</td><td>1.0</td><td>0</td><td>0</td><td>3</td><td>8</td><td>2010</td><td>2010</td><td>1968</td><td>0</td><td>98107</td><td>47.6732</td><td>-122.363</td><td>1560</td><td>3737</td></tr><tr><th>21</th><td>1652500060</td><td>20140711T000000</td><td>1650000</td><td>8</td><td>2.75</td><td>4040</td><td>20666</td><td>1.0</td><td>0</td><td>0</td><td>4</td><td>9</td><td>2020</td><td>2020</td><td>1962</td><td>0</td><td>98004</td><td>47.634</td><td>-122.221</td><td>3670</td><td>20500</td></tr><tr><th>22</th><td>1338600225</td><td>20140528T000000</td><td>1970000</td><td>8</td><td>3.5</td><td>4440</td><td>6480</td><td>2.0</td><td>0</td><td>3</td><td>5</td><td>10</td><td>3140</td><td>1300</td><td>1959</td><td>0</td><td>98112</td><td>47.631</td><td>-122.303</td><td>4440</td><td>8640</td></tr><tr><th>23</th><td>685000115</td><td>20141007T000000</td><td>2150000</td><td>8</td><td>6.0</td><td>4340</td><td>9415</td><td>2.0</td><td>0</td><td>0</td><td>3</td><td>8</td><td>4340</td><td>0</td><td>1967</td><td>0</td><td>98004</td><td>47.6316</td><td>-122.202</td><td>2050</td><td>9100</td></tr><tr><th>24</th><td>1346300150</td><td>20141020T000000</td><td>3300000</td><td>8</td><td>4.0</td><td>7710</td><td>11750</td><td>3.5</td><td>0</td><td>0</td><td>5</td><td>12</td><td>6090</td><td>1620</td><td>1904</td><td>0</td><td>98112</td><td>47.6263</td><td>-122.314</td><td>4210</td><td>8325</td></tr><tr><th>25</th><td>2887950020</td><td>20140625T000000</td><td>280000</td><td>7</td><td>2.5</td><td>1940</td><td>5458</td><td>2.0</td><td>0</td><td>0</td><td>3</td><td>7</td><td>1940</td><td>0</td><td>1994</td><td>0</td><td>98092</td><td>47.3191</td><td>-122.177</td><td>1710</td><td>5688</td></tr><tr><th>26</th><td>3812400455</td><td>20141104T000000</td><td>291000</td><td>7</td><td>1.0</td><td>2350</td><td>8636</td><td>1.0</td><td>0</td><td>0</td><td>3</td><td>7</td><td>1550</td><td>800</td><td>1962</td><td>0</td><td>98118</td><td>47.5432</td><td>-122.277</td><td>1500</td><td>7366</td></tr><tr><th>27</th><td>1471700410</td><td>20150506T000000</td><td>310000</td><td>7</td><td>1.5</td><td>2660</td><td>15111</td><td>1.5</td><td>0</td><td>0</td><td>4</td><td>7</td><td>2660</td><td>0</td><td>1962</td><td>0</td><td>98059</td><td>47.4644</td><td>-122.066</td><td>1710</td><td>15429</td></tr><tr><th>28</th><td>7227802030</td><td>20140623T000000</td><td>350000</td><td>7</td><td>3.0</td><td>2800</td><td>9569</td><td>1.0</td><td>0</td><td>2</td><td>3</td><td>7</td><td>1400</td><td>1400</td><td>1963</td><td>0</td><td>98056</td><td>47.5102</td><td>-122.183</td><td>2150</td><td>7333</td></tr><tr><th>29</th><td>6453300306</td><td>20140910T000000</td><td>419000</td><td>7</td><td>3.25</td><td>4340</td><td>8521</td><td>2.0</td><td>0</td><td>0</td><td>3</td><td>7</td><td>2550</td><td>1790</td><td>1986</td><td>0</td><td>98106</td><td>47.52</td><td>-122.338</td><td>1890</td><td>8951</td></tr><tr><th>30</th><td>4024100951</td><td>20150105T000000</td><td>420000</td><td>7</td><td>3.0</td><td>2940</td><td>8624</td><td>1.0</td><td>0</td><td>0</td><td>3</td><td>8</td><td>1690</td><td>1250</td><td>1977</td><td>0</td><td>98155</td><td>47.7555</td><td>-122.307</td><td>1850</td><td>8031</td></tr><tr><th>&vellip;</th><td>&vellip;</td><td>&vellip;</td><td>&vellip;</td><td>&vellip;</td><td>&vellip;</td><td>&vellip;</td><td>&vellip;</td><td>&vellip;</td><td>&vellip;</td><td>&vellip;</td><td>&vellip;</td><td>&vellip;</td><td>&vellip;</td><td>&vellip;</td><td>&vellip;</td><td>&vellip;</td><td>&vellip;</td><td>&vellip;</td><td>&vellip;</td><td>&vellip;</td><td>&vellip;</td></tr></table>"
      ],
      "text/plain": [
       "21613x21 DataFrame\n",
       "| Row   | id         | date              | price   | bedrooms | bathrooms |\n",
       "|-------|------------|-------------------|---------|----------|-----------|\n",
       "| 1     | 2402100895 | \"20140625T000000\" | 640000  | 33       | 1.75      |\n",
       "| 2     | 1773100755 | \"20140821T000000\" | 520000  | 11       | 3.0       |\n",
       "| 3     | 5566100170 | \"20141029T000000\" | 650000  | 10       | 2.0       |\n",
       "| 4     | 8812401450 | \"20141229T000000\" | 660000  | 10       | 3.0       |\n",
       "| 5     | 627300145  | \"20140814T000000\" | 1148000 | 10       | 5.25      |\n",
       "| 6     | 424049043  | \"20140811T000000\" | 450000  | 9        | 7.5       |\n",
       "| 7     | 1997200215 | \"20140507T000000\" | 599999  | 9        | 4.5       |\n",
       "| 8     | 2902200015 | \"20150106T000000\" | 700000  | 9        | 3.0       |\n",
       "| 9     | 8823901445 | \"20150313T000000\" | 934000  | 9        | 3.0       |\n",
       "| 10    | 9822700190 | \"20140808T000000\" | 1280000 | 9        | 4.5       |\n",
       "| 11    | 8823900290 | \"20150317T000000\" | 1400000 | 9        | 4.0       |\n",
       "⋮\n",
       "| 21602 | 3980300371 | \"20140926T000000\" | 142000  | 0        | 0.0       |\n",
       "| 21603 | 6896300380 | \"20141002T000000\" | 228000  | 0        | 1.0       |\n",
       "| 21604 | 7849202190 | \"20141223T000000\" | 235000  | 0        | 0.0       |\n",
       "| 21605 | 2310060040 | \"20140925T000000\" | 240000  | 0        | 2.5       |\n",
       "| 21606 | 1222029077 | \"20141029T000000\" | 265000  | 0        | 0.75      |\n",
       "| 21607 | 1453602309 | \"20140805T000000\" | 288000  | 0        | 1.5       |\n",
       "| 21608 | 7849202299 | \"20150218T000000\" | 320000  | 0        | 2.5       |\n",
       "| 21609 | 2569500210 | \"20141117T000000\" | 339950  | 0        | 2.5       |\n",
       "| 21610 | 3374500520 | \"20150429T000000\" | 355000  | 0        | 0.0       |\n",
       "| 21611 | 3918400017 | \"20150205T000000\" | 380000  | 0        | 0.0       |\n",
       "| 21612 | 6306400140 | \"20140612T000000\" | 1095000 | 0        | 0.0       |\n",
       "| 21613 | 2954400190 | \"20140624T000000\" | 1295648 | 0        | 0.0       |\n",
       "\n",
       "| Row   | sqft_living | sqft_lot | floors | waterfront | view | condition |\n",
       "|-------|-------------|----------|--------|------------|------|-----------|\n",
       "| 1     | 1620        | 6000     | 1.0    | 0          | 0    | 5         |\n",
       "| 2     | 3000        | 4960     | 2.0    | 0          | 0    | 3         |\n",
       "| 3     | 3610        | 11914    | 2.0    | 0          | 0    | 4         |\n",
       "| 4     | 2920        | 3745     | 2.0    | 0          | 0    | 4         |\n",
       "| 5     | 4590        | 10920    | 1.0    | 0          | 2    | 3         |\n",
       "| 6     | 4050        | 6504     | 2.0    | 0          | 0    | 3         |\n",
       "| 7     | 3830        | 6988     | 2.5    | 0          | 0    | 3         |\n",
       "| 8     | 3680        | 4400     | 2.0    | 0          | 0    | 3         |\n",
       "| 9     | 2820        | 4480     | 2.0    | 0          | 0    | 3         |\n",
       "| 10    | 3650        | 5000     | 2.0    | 0          | 0    | 3         |\n",
       "| 11    | 4620        | 5508     | 2.5    | 0          | 0    | 3         |\n",
       "⋮\n",
       "| 21602 | 290         | 20875    | 1.0    | 0          | 0    | 1         |\n",
       "| 21603 | 390         | 5900     | 1.0    | 0          | 0    | 2         |\n",
       "| 21604 | 1470        | 4800     | 2.0    | 0          | 0    | 3         |\n",
       "| 21605 | 1810        | 5669     | 2.0    | 0          | 0    | 3         |\n",
       "| 21606 | 384         | 213444   | 1.0    | 0          | 0    | 3         |\n",
       "| 21607 | 1430        | 1650     | 3.0    | 0          | 0    | 3         |\n",
       "| 21608 | 1490        | 7111     | 2.0    | 0          | 0    | 3         |\n",
       "| 21609 | 2290        | 8319     | 2.0    | 0          | 0    | 3         |\n",
       "| 21610 | 2460        | 8049     | 2.0    | 0          | 0    | 3         |\n",
       "| 21611 | 1470        | 979      | 3.0    | 0          | 2    | 3         |\n",
       "| 21612 | 3064        | 4764     | 3.5    | 0          | 2    | 3         |\n",
       "| 21613 | 4810        | 28008    | 2.0    | 0          | 0    | 3         |\n",
       "\n",
       "| Row   | grade | sqft_above | sqft_basement | yr_built | yr_renovated |\n",
       "|-------|-------|------------|---------------|----------|--------------|\n",
       "| 1     | 7     | 1040       | 580           | 1947     | 0            |\n",
       "| 2     | 7     | 2400       | 600           | 1918     | 1999         |\n",
       "| 3     | 7     | 3010       | 600           | 1958     | 0            |\n",
       "| 4     | 7     | 1860       | 1060          | 1913     | 0            |\n",
       "| 5     | 9     | 2500       | 2090          | 2008     | 0            |\n",
       "| 6     | 7     | 4050       | 0             | 1996     | 0            |\n",
       "| 7     | 7     | 2450       | 1380          | 1938     | 0            |\n",
       "| 8     | 7     | 2830       | 850           | 1908     | 0            |\n",
       "| 9     | 7     | 1880       | 940           | 1918     | 0            |\n",
       "| 10    | 8     | 2530       | 1120          | 1915     | 2010         |\n",
       "| 11    | 11    | 3870       | 750           | 1915     | 0            |\n",
       "⋮\n",
       "| 21602 | 1     | 290        | 0             | 1963     | 0            |\n",
       "| 21603 | 4     | 390        | 0             | 1953     | 0            |\n",
       "| 21604 | 7     | 1470       | 0             | 1996     | 0            |\n",
       "| 21605 | 7     | 1810       | 0             | 2003     | 0            |\n",
       "| 21606 | 4     | 384        | 0             | 2003     | 0            |\n",
       "| 21607 | 7     | 1430       | 0             | 1999     | 0            |\n",
       "| 21608 | 7     | 1490       | 0             | 1999     | 0            |\n",
       "| 21609 | 8     | 2290       | 0             | 1985     | 0            |\n",
       "| 21610 | 8     | 2460       | 0             | 1990     | 0            |\n",
       "| 21611 | 8     | 1470       | 0             | 2006     | 0            |\n",
       "| 21612 | 7     | 3064       | 0             | 1990     | 0            |\n",
       "| 21613 | 12    | 4810       | 0             | 1990     | 0            |\n",
       "\n",
       "| Row   | zipcode | lat     | long     | sqft_living15 | sqft_lot15 |\n",
       "|-------|---------|---------|----------|---------------|------------|\n",
       "| 1     | 98103   | 47.6878 | -122.331 | 1330          | 4700       |\n",
       "| 2     | 98106   | 47.556  | -122.363 | 1420          | 4960       |\n",
       "| 3     | 98006   | 47.5705 | -122.175 | 2040          | 11914      |\n",
       "| 4     | 98105   | 47.6635 | -122.32  | 1810          | 3745       |\n",
       "| 5     | 98004   | 47.5861 | -122.113 | 2730          | 10400      |\n",
       "| 6     | 98144   | 47.5923 | -122.301 | 1448          | 3866       |\n",
       "| 7     | 98103   | 47.6927 | -122.338 | 1460          | 6291       |\n",
       "| 8     | 98102   | 47.6374 | -122.324 | 1960          | 2450       |\n",
       "| 9     | 98105   | 47.6654 | -122.307 | 2460          | 4400       |\n",
       "| 10    | 98105   | 47.6604 | -122.289 | 2510          | 5000       |\n",
       "| 11    | 98105   | 47.6684 | -122.309 | 2710          | 4320       |\n",
       "⋮\n",
       "| 21602 | 98024   | 47.5308 | -121.888 | 1620          | 22850      |\n",
       "| 21603 | 98118   | 47.526  | -122.261 | 2170          | 6000       |\n",
       "| 21604 | 98065   | 47.5265 | -121.828 | 1060          | 7200       |\n",
       "| 21605 | 98038   | 47.3493 | -122.053 | 1810          | 5685       |\n",
       "| 21606 | 98070   | 47.4177 | -122.491 | 1920          | 224341     |\n",
       "| 21607 | 98125   | 47.7222 | -122.29  | 1430          | 1650       |\n",
       "| 21608 | 98065   | 47.5261 | -121.826 | 1500          | 4675       |\n",
       "| 21609 | 98042   | 47.3473 | -122.151 | 2500          | 8751       |\n",
       "| 21610 | 98031   | 47.4095 | -122.168 | 2520          | 8050       |\n",
       "| 21611 | 98133   | 47.7145 | -122.356 | 1470          | 1399       |\n",
       "| 21612 | 98102   | 47.6362 | -122.322 | 2360          | 4000       |\n",
       "| 21613 | 98053   | 47.6642 | -122.069 | 4740          | 35061      |"
      ]
     },
     "execution_count": 16,
     "metadata": {},
     "output_type": "execute_result"
    }
   ],
   "source": [
    "dual_sort_2 = sort(df,cols = [:bedrooms,:price],rev = [true,false])"
   ]
  },
  {
   "cell_type": "code",
   "execution_count": null,
   "metadata": {
    "collapsed": true
   },
   "outputs": [],
   "source": []
  }
 ],
 "metadata": {
  "kernelspec": {
   "display_name": "Julia 0.3.11",
   "language": "julia",
   "name": "julia-0.3"
  },
  "language_info": {
   "file_extension": ".jl",
   "mimetype": "application/julia",
   "name": "julia",
   "version": "0.3.11"
  }
 },
 "nbformat": 4,
 "nbformat_minor": 0
}
